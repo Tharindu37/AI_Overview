{
  "nbformat": 4,
  "nbformat_minor": 0,
  "metadata": {
    "colab": {
      "provenance": []
    },
    "kernelspec": {
      "name": "python3",
      "display_name": "Python 3"
    },
    "language_info": {
      "name": "python"
    }
  },
  "cells": [
    {
      "cell_type": "markdown",
      "source": [
        "Lets train a FFNN for a Regression Problem"
      ],
      "metadata": {
        "id": "Sok4bVIGVwpD"
      }
    },
    {
      "cell_type": "code",
      "execution_count": null,
      "metadata": {
        "id": "MvOl7R1BVe1J"
      },
      "outputs": [],
      "source": [
        "from matplotlib import pyplot as plt\n",
        "\n",
        "import pandas as pd\n",
        "import numpy as np"
      ]
    },
    {
      "cell_type": "markdown",
      "source": [
        "Reading the dataset"
      ],
      "metadata": {
        "id": "4jf6zXEeX4P7"
      }
    },
    {
      "cell_type": "code",
      "source": [
        "df=pd.read_csv('/content/drive/MyDrive/Colab Notebooks/DL_Course/movies.csv')\n",
        "df"
      ],
      "metadata": {
        "colab": {
          "base_uri": "https://localhost:8080/",
          "height": 1000
        },
        "id": "wup3tRRDX36q",
        "outputId": "a4897f2d-4352-4e2e-be50-b87acc839075"
      },
      "execution_count": null,
      "outputs": [
        {
          "output_type": "execute_result",
          "data": {
            "text/plain": [
              "      Unnamed: 0                           Movie Name  Year of Release  \\\n",
              "0              0             The Shawshank Redemption             1994   \n",
              "1              1                        The Godfather             1972   \n",
              "2              2  Ramayana: The Legend of Prince Rama             1993   \n",
              "3              3                      The Chaos Class             1975   \n",
              "4              4                      The Dark Knight             2008   \n",
              "...          ...                                  ...              ...   \n",
              "9995        9995                        Golmaal Again             2017   \n",
              "9996        9996                        Not to Forget             2021   \n",
              "9997        9997                          Housefull 3             2016   \n",
              "9998        9998                          A.I. Rising             2018   \n",
              "9999        9999                         The Last Boy             2019   \n",
              "\n",
              "      Run Time in minutes  Movie Rating    Votes  MetaScore        Gross  \\\n",
              "0                     142           9.3  2804443       82.0   28340000.0   \n",
              "1                     175           9.2  1954174      100.0  134970000.0   \n",
              "2                     135           9.2    12995        NaN          NaN   \n",
              "3                      87           9.2    42231        NaN          NaN   \n",
              "4                     152           9.0  2786129       84.0  534860000.0   \n",
              "...                   ...           ...      ...        ...          ...   \n",
              "9995                  140           4.9    10183        NaN    1010000.0   \n",
              "9996                   84           4.9    11191        NaN          NaN   \n",
              "9997                  140           4.9    10308        NaN    1160000.0   \n",
              "9998                   85           4.9    11187        NaN          NaN   \n",
              "9999                   87           4.9    10324        NaN          NaN   \n",
              "\n",
              "                                       Genre Certification  \\\n",
              "0                                  ['Drama']             R   \n",
              "1                        ['Crime', ' Drama']             R   \n",
              "2     ['Animation', ' Action', ' Adventure']            PG   \n",
              "3                       ['Comedy', ' Drama']           NaN   \n",
              "4             ['Action', ' Crime', ' Drama']         PG-13   \n",
              "...                                      ...           ...   \n",
              "9995       ['Action', ' Comedy', ' Fantasy']     Not Rated   \n",
              "9996                               ['Drama']           NaN   \n",
              "9997       ['Action', ' Comedy', ' Romance']     Not Rated   \n",
              "9998        ['Drama', ' Romance', ' Sci-Fi']             R   \n",
              "9999      ['Fantasy', ' Mystery', ' Sci-Fi']           NaN   \n",
              "\n",
              "                                        Director  \\\n",
              "0                             ['Frank Darabont']   \n",
              "1                       ['Francis Ford Coppola']   \n",
              "2     ['Ram Mohan', 'Yûgô Sakô', 'Koichi Saski']   \n",
              "3                              ['Ertem Egilmez']   \n",
              "4                          ['Christopher Nolan']   \n",
              "...                                          ...   \n",
              "9995                            ['Rohit Shetty']   \n",
              "9996                          ['Valerio Zanoli']   \n",
              "9997                   ['Sajid', 'Farhad Samji']   \n",
              "9998                           ['Lazar Bodroza']   \n",
              "9999                           ['Perry Bhandal']   \n",
              "\n",
              "                                                  Stars  \\\n",
              "0     ['Tim Robbins', 'Morgan Freeman', 'Bob Gunton'...   \n",
              "1     ['Marlon Brando', 'Al Pacino', 'James Caan', '...   \n",
              "2     ['Arun Govil', 'Nikhil Kapoor', 'Edie Mirman',...   \n",
              "3     ['Kemal Sunal', 'Münir Özkul', 'Halit Akçatepe...   \n",
              "4     ['Christian Bale', 'Heath Ledger', 'Aaron Eckh...   \n",
              "...                                                 ...   \n",
              "9995  ['Ajay Devgn', 'Arshad Warsi', 'Tabu', 'Shreya...   \n",
              "9996  ['Karen Grassle', 'Louis Gossett Jr.', \"Tatum ...   \n",
              "9997  ['Akshay Kumar', 'Abhishek Bachchan', 'Riteish...   \n",
              "9998  ['Sebastian Cavazza', 'Stoya', 'Marusa Majer',...   \n",
              "9999  ['Luke Goss', 'Flynn Allen', 'Peter Guinness',...   \n",
              "\n",
              "                                            Description  \n",
              "0     ['Over', 'the', 'course', 'of', 'several', 'ye...  \n",
              "1     ['Don', 'Vito', 'Corleone,', 'head', 'of', 'a'...  \n",
              "2     ['An', 'anime', 'adaptation', 'of', 'the', 'Hi...  \n",
              "3     ['Lazy,', 'uneducated', 'students', 'share', '...  \n",
              "4     ['When', 'the', 'menace', 'known', 'as', 'the'...  \n",
              "...                                                 ...  \n",
              "9995  ['The', 'gang', 'encounters', 'with', 'some', ...  \n",
              "9996  ['After', 'a', 'lifetime', 'of', 'scams,', 'a'...  \n",
              "9997  ['A', 'father', \"doesn't\", 'want', 'his', 'thr...  \n",
              "9998  ['An', 'intimate', 'relationship', 'between', ...  \n",
              "9999  ['With', 'the', \"world's\", 'end', 'imminent,',...  \n",
              "\n",
              "[10000 rows x 13 columns]"
            ],
            "text/html": [
              "\n",
              "  <div id=\"df-1f804989-b0a5-4c31-b25d-9587ef4294ef\" class=\"colab-df-container\">\n",
              "    <div>\n",
              "<style scoped>\n",
              "    .dataframe tbody tr th:only-of-type {\n",
              "        vertical-align: middle;\n",
              "    }\n",
              "\n",
              "    .dataframe tbody tr th {\n",
              "        vertical-align: top;\n",
              "    }\n",
              "\n",
              "    .dataframe thead th {\n",
              "        text-align: right;\n",
              "    }\n",
              "</style>\n",
              "<table border=\"1\" class=\"dataframe\">\n",
              "  <thead>\n",
              "    <tr style=\"text-align: right;\">\n",
              "      <th></th>\n",
              "      <th>Unnamed: 0</th>\n",
              "      <th>Movie Name</th>\n",
              "      <th>Year of Release</th>\n",
              "      <th>Run Time in minutes</th>\n",
              "      <th>Movie Rating</th>\n",
              "      <th>Votes</th>\n",
              "      <th>MetaScore</th>\n",
              "      <th>Gross</th>\n",
              "      <th>Genre</th>\n",
              "      <th>Certification</th>\n",
              "      <th>Director</th>\n",
              "      <th>Stars</th>\n",
              "      <th>Description</th>\n",
              "    </tr>\n",
              "  </thead>\n",
              "  <tbody>\n",
              "    <tr>\n",
              "      <th>0</th>\n",
              "      <td>0</td>\n",
              "      <td>The Shawshank Redemption</td>\n",
              "      <td>1994</td>\n",
              "      <td>142</td>\n",
              "      <td>9.3</td>\n",
              "      <td>2804443</td>\n",
              "      <td>82.0</td>\n",
              "      <td>28340000.0</td>\n",
              "      <td>['Drama']</td>\n",
              "      <td>R</td>\n",
              "      <td>['Frank Darabont']</td>\n",
              "      <td>['Tim Robbins', 'Morgan Freeman', 'Bob Gunton'...</td>\n",
              "      <td>['Over', 'the', 'course', 'of', 'several', 'ye...</td>\n",
              "    </tr>\n",
              "    <tr>\n",
              "      <th>1</th>\n",
              "      <td>1</td>\n",
              "      <td>The Godfather</td>\n",
              "      <td>1972</td>\n",
              "      <td>175</td>\n",
              "      <td>9.2</td>\n",
              "      <td>1954174</td>\n",
              "      <td>100.0</td>\n",
              "      <td>134970000.0</td>\n",
              "      <td>['Crime', ' Drama']</td>\n",
              "      <td>R</td>\n",
              "      <td>['Francis Ford Coppola']</td>\n",
              "      <td>['Marlon Brando', 'Al Pacino', 'James Caan', '...</td>\n",
              "      <td>['Don', 'Vito', 'Corleone,', 'head', 'of', 'a'...</td>\n",
              "    </tr>\n",
              "    <tr>\n",
              "      <th>2</th>\n",
              "      <td>2</td>\n",
              "      <td>Ramayana: The Legend of Prince Rama</td>\n",
              "      <td>1993</td>\n",
              "      <td>135</td>\n",
              "      <td>9.2</td>\n",
              "      <td>12995</td>\n",
              "      <td>NaN</td>\n",
              "      <td>NaN</td>\n",
              "      <td>['Animation', ' Action', ' Adventure']</td>\n",
              "      <td>PG</td>\n",
              "      <td>['Ram Mohan', 'Yûgô Sakô', 'Koichi Saski']</td>\n",
              "      <td>['Arun Govil', 'Nikhil Kapoor', 'Edie Mirman',...</td>\n",
              "      <td>['An', 'anime', 'adaptation', 'of', 'the', 'Hi...</td>\n",
              "    </tr>\n",
              "    <tr>\n",
              "      <th>3</th>\n",
              "      <td>3</td>\n",
              "      <td>The Chaos Class</td>\n",
              "      <td>1975</td>\n",
              "      <td>87</td>\n",
              "      <td>9.2</td>\n",
              "      <td>42231</td>\n",
              "      <td>NaN</td>\n",
              "      <td>NaN</td>\n",
              "      <td>['Comedy', ' Drama']</td>\n",
              "      <td>NaN</td>\n",
              "      <td>['Ertem Egilmez']</td>\n",
              "      <td>['Kemal Sunal', 'Münir Özkul', 'Halit Akçatepe...</td>\n",
              "      <td>['Lazy,', 'uneducated', 'students', 'share', '...</td>\n",
              "    </tr>\n",
              "    <tr>\n",
              "      <th>4</th>\n",
              "      <td>4</td>\n",
              "      <td>The Dark Knight</td>\n",
              "      <td>2008</td>\n",
              "      <td>152</td>\n",
              "      <td>9.0</td>\n",
              "      <td>2786129</td>\n",
              "      <td>84.0</td>\n",
              "      <td>534860000.0</td>\n",
              "      <td>['Action', ' Crime', ' Drama']</td>\n",
              "      <td>PG-13</td>\n",
              "      <td>['Christopher Nolan']</td>\n",
              "      <td>['Christian Bale', 'Heath Ledger', 'Aaron Eckh...</td>\n",
              "      <td>['When', 'the', 'menace', 'known', 'as', 'the'...</td>\n",
              "    </tr>\n",
              "    <tr>\n",
              "      <th>...</th>\n",
              "      <td>...</td>\n",
              "      <td>...</td>\n",
              "      <td>...</td>\n",
              "      <td>...</td>\n",
              "      <td>...</td>\n",
              "      <td>...</td>\n",
              "      <td>...</td>\n",
              "      <td>...</td>\n",
              "      <td>...</td>\n",
              "      <td>...</td>\n",
              "      <td>...</td>\n",
              "      <td>...</td>\n",
              "      <td>...</td>\n",
              "    </tr>\n",
              "    <tr>\n",
              "      <th>9995</th>\n",
              "      <td>9995</td>\n",
              "      <td>Golmaal Again</td>\n",
              "      <td>2017</td>\n",
              "      <td>140</td>\n",
              "      <td>4.9</td>\n",
              "      <td>10183</td>\n",
              "      <td>NaN</td>\n",
              "      <td>1010000.0</td>\n",
              "      <td>['Action', ' Comedy', ' Fantasy']</td>\n",
              "      <td>Not Rated</td>\n",
              "      <td>['Rohit Shetty']</td>\n",
              "      <td>['Ajay Devgn', 'Arshad Warsi', 'Tabu', 'Shreya...</td>\n",
              "      <td>['The', 'gang', 'encounters', 'with', 'some', ...</td>\n",
              "    </tr>\n",
              "    <tr>\n",
              "      <th>9996</th>\n",
              "      <td>9996</td>\n",
              "      <td>Not to Forget</td>\n",
              "      <td>2021</td>\n",
              "      <td>84</td>\n",
              "      <td>4.9</td>\n",
              "      <td>11191</td>\n",
              "      <td>NaN</td>\n",
              "      <td>NaN</td>\n",
              "      <td>['Drama']</td>\n",
              "      <td>NaN</td>\n",
              "      <td>['Valerio Zanoli']</td>\n",
              "      <td>['Karen Grassle', 'Louis Gossett Jr.', \"Tatum ...</td>\n",
              "      <td>['After', 'a', 'lifetime', 'of', 'scams,', 'a'...</td>\n",
              "    </tr>\n",
              "    <tr>\n",
              "      <th>9997</th>\n",
              "      <td>9997</td>\n",
              "      <td>Housefull 3</td>\n",
              "      <td>2016</td>\n",
              "      <td>140</td>\n",
              "      <td>4.9</td>\n",
              "      <td>10308</td>\n",
              "      <td>NaN</td>\n",
              "      <td>1160000.0</td>\n",
              "      <td>['Action', ' Comedy', ' Romance']</td>\n",
              "      <td>Not Rated</td>\n",
              "      <td>['Sajid', 'Farhad Samji']</td>\n",
              "      <td>['Akshay Kumar', 'Abhishek Bachchan', 'Riteish...</td>\n",
              "      <td>['A', 'father', \"doesn't\", 'want', 'his', 'thr...</td>\n",
              "    </tr>\n",
              "    <tr>\n",
              "      <th>9998</th>\n",
              "      <td>9998</td>\n",
              "      <td>A.I. Rising</td>\n",
              "      <td>2018</td>\n",
              "      <td>85</td>\n",
              "      <td>4.9</td>\n",
              "      <td>11187</td>\n",
              "      <td>NaN</td>\n",
              "      <td>NaN</td>\n",
              "      <td>['Drama', ' Romance', ' Sci-Fi']</td>\n",
              "      <td>R</td>\n",
              "      <td>['Lazar Bodroza']</td>\n",
              "      <td>['Sebastian Cavazza', 'Stoya', 'Marusa Majer',...</td>\n",
              "      <td>['An', 'intimate', 'relationship', 'between', ...</td>\n",
              "    </tr>\n",
              "    <tr>\n",
              "      <th>9999</th>\n",
              "      <td>9999</td>\n",
              "      <td>The Last Boy</td>\n",
              "      <td>2019</td>\n",
              "      <td>87</td>\n",
              "      <td>4.9</td>\n",
              "      <td>10324</td>\n",
              "      <td>NaN</td>\n",
              "      <td>NaN</td>\n",
              "      <td>['Fantasy', ' Mystery', ' Sci-Fi']</td>\n",
              "      <td>NaN</td>\n",
              "      <td>['Perry Bhandal']</td>\n",
              "      <td>['Luke Goss', 'Flynn Allen', 'Peter Guinness',...</td>\n",
              "      <td>['With', 'the', \"world's\", 'end', 'imminent,',...</td>\n",
              "    </tr>\n",
              "  </tbody>\n",
              "</table>\n",
              "<p>10000 rows × 13 columns</p>\n",
              "</div>\n",
              "    <div class=\"colab-df-buttons\">\n",
              "\n",
              "  <div class=\"colab-df-container\">\n",
              "    <button class=\"colab-df-convert\" onclick=\"convertToInteractive('df-1f804989-b0a5-4c31-b25d-9587ef4294ef')\"\n",
              "            title=\"Convert this dataframe to an interactive table.\"\n",
              "            style=\"display:none;\">\n",
              "\n",
              "  <svg xmlns=\"http://www.w3.org/2000/svg\" height=\"24px\" viewBox=\"0 -960 960 960\">\n",
              "    <path d=\"M120-120v-720h720v720H120Zm60-500h600v-160H180v160Zm220 220h160v-160H400v160Zm0 220h160v-160H400v160ZM180-400h160v-160H180v160Zm440 0h160v-160H620v160ZM180-180h160v-160H180v160Zm440 0h160v-160H620v160Z\"/>\n",
              "  </svg>\n",
              "    </button>\n",
              "\n",
              "  <style>\n",
              "    .colab-df-container {\n",
              "      display:flex;\n",
              "      gap: 12px;\n",
              "    }\n",
              "\n",
              "    .colab-df-convert {\n",
              "      background-color: #E8F0FE;\n",
              "      border: none;\n",
              "      border-radius: 50%;\n",
              "      cursor: pointer;\n",
              "      display: none;\n",
              "      fill: #1967D2;\n",
              "      height: 32px;\n",
              "      padding: 0 0 0 0;\n",
              "      width: 32px;\n",
              "    }\n",
              "\n",
              "    .colab-df-convert:hover {\n",
              "      background-color: #E2EBFA;\n",
              "      box-shadow: 0px 1px 2px rgba(60, 64, 67, 0.3), 0px 1px 3px 1px rgba(60, 64, 67, 0.15);\n",
              "      fill: #174EA6;\n",
              "    }\n",
              "\n",
              "    .colab-df-buttons div {\n",
              "      margin-bottom: 4px;\n",
              "    }\n",
              "\n",
              "    [theme=dark] .colab-df-convert {\n",
              "      background-color: #3B4455;\n",
              "      fill: #D2E3FC;\n",
              "    }\n",
              "\n",
              "    [theme=dark] .colab-df-convert:hover {\n",
              "      background-color: #434B5C;\n",
              "      box-shadow: 0px 1px 3px 1px rgba(0, 0, 0, 0.15);\n",
              "      filter: drop-shadow(0px 1px 2px rgba(0, 0, 0, 0.3));\n",
              "      fill: #FFFFFF;\n",
              "    }\n",
              "  </style>\n",
              "\n",
              "    <script>\n",
              "      const buttonEl =\n",
              "        document.querySelector('#df-1f804989-b0a5-4c31-b25d-9587ef4294ef button.colab-df-convert');\n",
              "      buttonEl.style.display =\n",
              "        google.colab.kernel.accessAllowed ? 'block' : 'none';\n",
              "\n",
              "      async function convertToInteractive(key) {\n",
              "        const element = document.querySelector('#df-1f804989-b0a5-4c31-b25d-9587ef4294ef');\n",
              "        const dataTable =\n",
              "          await google.colab.kernel.invokeFunction('convertToInteractive',\n",
              "                                                    [key], {});\n",
              "        if (!dataTable) return;\n",
              "\n",
              "        const docLinkHtml = 'Like what you see? Visit the ' +\n",
              "          '<a target=\"_blank\" href=https://colab.research.google.com/notebooks/data_table.ipynb>data table notebook</a>'\n",
              "          + ' to learn more about interactive tables.';\n",
              "        element.innerHTML = '';\n",
              "        dataTable['output_type'] = 'display_data';\n",
              "        await google.colab.output.renderOutput(dataTable, element);\n",
              "        const docLink = document.createElement('div');\n",
              "        docLink.innerHTML = docLinkHtml;\n",
              "        element.appendChild(docLink);\n",
              "      }\n",
              "    </script>\n",
              "  </div>\n",
              "\n",
              "\n",
              "<div id=\"df-a2451dc9-8a77-4883-bc08-b7360e4d1241\">\n",
              "  <button class=\"colab-df-quickchart\" onclick=\"quickchart('df-a2451dc9-8a77-4883-bc08-b7360e4d1241')\"\n",
              "            title=\"Suggest charts\"\n",
              "            style=\"display:none;\">\n",
              "\n",
              "<svg xmlns=\"http://www.w3.org/2000/svg\" height=\"24px\"viewBox=\"0 0 24 24\"\n",
              "     width=\"24px\">\n",
              "    <g>\n",
              "        <path d=\"M19 3H5c-1.1 0-2 .9-2 2v14c0 1.1.9 2 2 2h14c1.1 0 2-.9 2-2V5c0-1.1-.9-2-2-2zM9 17H7v-7h2v7zm4 0h-2V7h2v10zm4 0h-2v-4h2v4z\"/>\n",
              "    </g>\n",
              "</svg>\n",
              "  </button>\n",
              "\n",
              "<style>\n",
              "  .colab-df-quickchart {\n",
              "      --bg-color: #E8F0FE;\n",
              "      --fill-color: #1967D2;\n",
              "      --hover-bg-color: #E2EBFA;\n",
              "      --hover-fill-color: #174EA6;\n",
              "      --disabled-fill-color: #AAA;\n",
              "      --disabled-bg-color: #DDD;\n",
              "  }\n",
              "\n",
              "  [theme=dark] .colab-df-quickchart {\n",
              "      --bg-color: #3B4455;\n",
              "      --fill-color: #D2E3FC;\n",
              "      --hover-bg-color: #434B5C;\n",
              "      --hover-fill-color: #FFFFFF;\n",
              "      --disabled-bg-color: #3B4455;\n",
              "      --disabled-fill-color: #666;\n",
              "  }\n",
              "\n",
              "  .colab-df-quickchart {\n",
              "    background-color: var(--bg-color);\n",
              "    border: none;\n",
              "    border-radius: 50%;\n",
              "    cursor: pointer;\n",
              "    display: none;\n",
              "    fill: var(--fill-color);\n",
              "    height: 32px;\n",
              "    padding: 0;\n",
              "    width: 32px;\n",
              "  }\n",
              "\n",
              "  .colab-df-quickchart:hover {\n",
              "    background-color: var(--hover-bg-color);\n",
              "    box-shadow: 0 1px 2px rgba(60, 64, 67, 0.3), 0 1px 3px 1px rgba(60, 64, 67, 0.15);\n",
              "    fill: var(--button-hover-fill-color);\n",
              "  }\n",
              "\n",
              "  .colab-df-quickchart-complete:disabled,\n",
              "  .colab-df-quickchart-complete:disabled:hover {\n",
              "    background-color: var(--disabled-bg-color);\n",
              "    fill: var(--disabled-fill-color);\n",
              "    box-shadow: none;\n",
              "  }\n",
              "\n",
              "  .colab-df-spinner {\n",
              "    border: 2px solid var(--fill-color);\n",
              "    border-color: transparent;\n",
              "    border-bottom-color: var(--fill-color);\n",
              "    animation:\n",
              "      spin 1s steps(1) infinite;\n",
              "  }\n",
              "\n",
              "  @keyframes spin {\n",
              "    0% {\n",
              "      border-color: transparent;\n",
              "      border-bottom-color: var(--fill-color);\n",
              "      border-left-color: var(--fill-color);\n",
              "    }\n",
              "    20% {\n",
              "      border-color: transparent;\n",
              "      border-left-color: var(--fill-color);\n",
              "      border-top-color: var(--fill-color);\n",
              "    }\n",
              "    30% {\n",
              "      border-color: transparent;\n",
              "      border-left-color: var(--fill-color);\n",
              "      border-top-color: var(--fill-color);\n",
              "      border-right-color: var(--fill-color);\n",
              "    }\n",
              "    40% {\n",
              "      border-color: transparent;\n",
              "      border-right-color: var(--fill-color);\n",
              "      border-top-color: var(--fill-color);\n",
              "    }\n",
              "    60% {\n",
              "      border-color: transparent;\n",
              "      border-right-color: var(--fill-color);\n",
              "    }\n",
              "    80% {\n",
              "      border-color: transparent;\n",
              "      border-right-color: var(--fill-color);\n",
              "      border-bottom-color: var(--fill-color);\n",
              "    }\n",
              "    90% {\n",
              "      border-color: transparent;\n",
              "      border-bottom-color: var(--fill-color);\n",
              "    }\n",
              "  }\n",
              "</style>\n",
              "\n",
              "  <script>\n",
              "    async function quickchart(key) {\n",
              "      const quickchartButtonEl =\n",
              "        document.querySelector('#' + key + ' button');\n",
              "      quickchartButtonEl.disabled = true;  // To prevent multiple clicks.\n",
              "      quickchartButtonEl.classList.add('colab-df-spinner');\n",
              "      try {\n",
              "        const charts = await google.colab.kernel.invokeFunction(\n",
              "            'suggestCharts', [key], {});\n",
              "      } catch (error) {\n",
              "        console.error('Error during call to suggestCharts:', error);\n",
              "      }\n",
              "      quickchartButtonEl.classList.remove('colab-df-spinner');\n",
              "      quickchartButtonEl.classList.add('colab-df-quickchart-complete');\n",
              "    }\n",
              "    (() => {\n",
              "      let quickchartButtonEl =\n",
              "        document.querySelector('#df-a2451dc9-8a77-4883-bc08-b7360e4d1241 button');\n",
              "      quickchartButtonEl.style.display =\n",
              "        google.colab.kernel.accessAllowed ? 'block' : 'none';\n",
              "    })();\n",
              "  </script>\n",
              "</div>\n",
              "\n",
              "  <div id=\"id_d3894b7f-202d-4969-a965-02da534ad4b4\">\n",
              "    <style>\n",
              "      .colab-df-generate {\n",
              "        background-color: #E8F0FE;\n",
              "        border: none;\n",
              "        border-radius: 50%;\n",
              "        cursor: pointer;\n",
              "        display: none;\n",
              "        fill: #1967D2;\n",
              "        height: 32px;\n",
              "        padding: 0 0 0 0;\n",
              "        width: 32px;\n",
              "      }\n",
              "\n",
              "      .colab-df-generate:hover {\n",
              "        background-color: #E2EBFA;\n",
              "        box-shadow: 0px 1px 2px rgba(60, 64, 67, 0.3), 0px 1px 3px 1px rgba(60, 64, 67, 0.15);\n",
              "        fill: #174EA6;\n",
              "      }\n",
              "\n",
              "      [theme=dark] .colab-df-generate {\n",
              "        background-color: #3B4455;\n",
              "        fill: #D2E3FC;\n",
              "      }\n",
              "\n",
              "      [theme=dark] .colab-df-generate:hover {\n",
              "        background-color: #434B5C;\n",
              "        box-shadow: 0px 1px 3px 1px rgba(0, 0, 0, 0.15);\n",
              "        filter: drop-shadow(0px 1px 2px rgba(0, 0, 0, 0.3));\n",
              "        fill: #FFFFFF;\n",
              "      }\n",
              "    </style>\n",
              "    <button class=\"colab-df-generate\" onclick=\"generateWithVariable('df')\"\n",
              "            title=\"Generate code using this dataframe.\"\n",
              "            style=\"display:none;\">\n",
              "\n",
              "  <svg xmlns=\"http://www.w3.org/2000/svg\" height=\"24px\"viewBox=\"0 0 24 24\"\n",
              "       width=\"24px\">\n",
              "    <path d=\"M7,19H8.4L18.45,9,17,7.55,7,17.6ZM5,21V16.75L18.45,3.32a2,2,0,0,1,2.83,0l1.4,1.43a1.91,1.91,0,0,1,.58,1.4,1.91,1.91,0,0,1-.58,1.4L9.25,21ZM18.45,9,17,7.55Zm-12,3A5.31,5.31,0,0,0,4.9,8.1,5.31,5.31,0,0,0,1,6.5,5.31,5.31,0,0,0,4.9,4.9,5.31,5.31,0,0,0,6.5,1,5.31,5.31,0,0,0,8.1,4.9,5.31,5.31,0,0,0,12,6.5,5.46,5.46,0,0,0,6.5,12Z\"/>\n",
              "  </svg>\n",
              "    </button>\n",
              "    <script>\n",
              "      (() => {\n",
              "      const buttonEl =\n",
              "        document.querySelector('#id_d3894b7f-202d-4969-a965-02da534ad4b4 button.colab-df-generate');\n",
              "      buttonEl.style.display =\n",
              "        google.colab.kernel.accessAllowed ? 'block' : 'none';\n",
              "\n",
              "      buttonEl.onclick = () => {\n",
              "        google.colab.notebook.generateWithVariable('df');\n",
              "      }\n",
              "      })();\n",
              "    </script>\n",
              "  </div>\n",
              "\n",
              "    </div>\n",
              "  </div>\n"
            ],
            "application/vnd.google.colaboratory.intrinsic+json": {
              "type": "dataframe",
              "variable_name": "df",
              "summary": "{\n  \"name\": \"df\",\n  \"rows\": 10000,\n  \"fields\": [\n    {\n      \"column\": \"Unnamed: 0\",\n      \"properties\": {\n        \"dtype\": \"number\",\n        \"std\": 2886,\n        \"min\": 0,\n        \"max\": 9999,\n        \"num_unique_values\": 10000,\n        \"samples\": [\n          6252,\n          4684,\n          1731\n        ],\n        \"semantic_type\": \"\",\n        \"description\": \"\"\n      }\n    },\n    {\n      \"column\": \"Movie Name\",\n      \"properties\": {\n        \"dtype\": \"string\",\n        \"num_unique_values\": 9632,\n        \"samples\": [\n          \"Impostor\",\n          \"Paranoid Park\",\n          \"Penelope\"\n        ],\n        \"semantic_type\": \"\",\n        \"description\": \"\"\n      }\n    },\n    {\n      \"column\": \"Year of Release\",\n      \"properties\": {\n        \"dtype\": \"number\",\n        \"std\": 18,\n        \"min\": 1915,\n        \"max\": 2023,\n        \"num_unique_values\": 107,\n        \"samples\": [\n          1969,\n          2021,\n          2008\n        ],\n        \"semantic_type\": \"\",\n        \"description\": \"\"\n      }\n    },\n    {\n      \"column\": \"Run Time in minutes\",\n      \"properties\": {\n        \"dtype\": \"number\",\n        \"std\": 22,\n        \"min\": 45,\n        \"max\": 439,\n        \"num_unique_values\": 171,\n        \"samples\": [\n          174,\n          132,\n          106\n        ],\n        \"semantic_type\": \"\",\n        \"description\": \"\"\n      }\n    },\n    {\n      \"column\": \"Movie Rating\",\n      \"properties\": {\n        \"dtype\": \"number\",\n        \"std\": 0.821264492801627,\n        \"min\": 4.9,\n        \"max\": 9.3,\n        \"num_unique_values\": 44,\n        \"samples\": [\n          5.5,\n          6.8,\n          6.7\n        ],\n        \"semantic_type\": \"\",\n        \"description\": \"\"\n      }\n    },\n    {\n      \"column\": \"Votes\",\n      \"properties\": {\n        \"dtype\": \"number\",\n        \"std\": 171650,\n        \"min\": 10002,\n        \"max\": 2804443,\n        \"num_unique_values\": 9304,\n        \"samples\": [\n          26451,\n          22036,\n          22184\n        ],\n        \"semantic_type\": \"\",\n        \"description\": \"\"\n      }\n    },\n    {\n      \"column\": \"MetaScore\",\n      \"properties\": {\n        \"dtype\": \"number\",\n        \"std\": 17.268795402402663,\n        \"min\": 7.0,\n        \"max\": 100.0,\n        \"num_unique_values\": 93,\n        \"samples\": [\n          60.0,\n          98.0,\n          56.0\n        ],\n        \"semantic_type\": \"\",\n        \"description\": \"\"\n      }\n    },\n    {\n      \"column\": \"Gross\",\n      \"properties\": {\n        \"dtype\": \"number\",\n        \"std\": 67486580.8882729,\n        \"min\": 0.0,\n        \"max\": 936660000.0,\n        \"num_unique_values\": 4173,\n        \"samples\": [\n          32480000.0,\n          50930000.0,\n          1880000.0\n        ],\n        \"semantic_type\": \"\",\n        \"description\": \"\"\n      }\n    },\n    {\n      \"column\": \"Genre\",\n      \"properties\": {\n        \"dtype\": \"category\",\n        \"num_unique_values\": 425,\n        \"samples\": [\n          \"['Comedy', ' Music', ' War']\",\n          \"['Animation', ' Adventure', ' Comedy']\",\n          \"['Biography', ' Drama', ' War']\"\n        ],\n        \"semantic_type\": \"\",\n        \"description\": \"\"\n      }\n    },\n    {\n      \"column\": \"Certification\",\n      \"properties\": {\n        \"dtype\": \"category\",\n        \"num_unique_values\": 24,\n        \"samples\": [\n          \"Passed\",\n          \"TV-PG\",\n          \"R\"\n        ],\n        \"semantic_type\": \"\",\n        \"description\": \"\"\n      }\n    },\n    {\n      \"column\": \"Director\",\n      \"properties\": {\n        \"dtype\": \"category\",\n        \"num_unique_values\": 4162,\n        \"samples\": [\n          \"['George Miller', 'George Ogilvie']\",\n          \"['Risa Bramon Garcia']\",\n          \"['Nishikant Kamat']\"\n        ],\n        \"semantic_type\": \"\",\n        \"description\": \"\"\n      }\n    },\n    {\n      \"column\": \"Stars\",\n      \"properties\": {\n        \"dtype\": \"string\",\n        \"num_unique_values\": 9947,\n        \"samples\": [\n          \"['Amitabh Bachchan', 'Abhishek Bachchan', 'Vidya Balan', 'Paresh Rawal']\",\n          \"['Justin Long', 'Emmy Rossum', 'Kayla Servi', 'Eric Winter']\",\n          \"['Tom Holland', 'Ciara Bravo', 'Jack Reynor', 'Forrest Goodluck']\"\n        ],\n        \"semantic_type\": \"\",\n        \"description\": \"\"\n      }\n    },\n    {\n      \"column\": \"Description\",\n      \"properties\": {\n        \"dtype\": \"string\",\n        \"num_unique_values\": 9996,\n        \"samples\": [\n          \"['During', 'a', 'sweltering', 'summer,', 'a', 'rookie', 'homicide', 'detective', 'tries', 'to', 'track', 'down', 'his', 'stolen', 'Colt', 'pistol.']\",\n          \"['A', 'family', 'of', 'five', 'heads', 'to', \\\"Granddad's\\\", 'big', '75th-birthday', 'party', 'at', 'an', \\\"uncle's\\\", 'estate', 'in', 'rural', 'Scotland.', 'The', 'parents', 'are', 'separated', 'and', 'hope', 'their', 'three', 'kids', \\\"won't\\\", 'mention', 'it.', 'The', 'kids', 'love,', 'can', 'talk', 'with,', 'and', 'would', 'do', 'anything', 'for', 'Granddad.']\",\n          \"['A', 'dysfunctional', 'family', 'moves', 'into', 'a', 'new', 'house,', 'which', 'proves', 'to', 'be', 'satanic,', 'resulting', 'in', 'the', 'demonic', 'possession', 'of', 'their', 'teenage', 'son.']\"\n        ],\n        \"semantic_type\": \"\",\n        \"description\": \"\"\n      }\n    }\n  ]\n}"
            }
          },
          "metadata": {},
          "execution_count": 17
        }
      ]
    },
    {
      "cell_type": "code",
      "source": [
        "data=df[[\"Year of Release\",\"Run Time in minutes\",\"Votes\"]].values\n",
        "target=df[\"Movie Rating\"].values\n",
        "print(data)\n",
        "print(target)"
      ],
      "metadata": {
        "colab": {
          "base_uri": "https://localhost:8080/"
        },
        "id": "ehC8_5LdV-EL",
        "outputId": "6662aa36-2bab-4118-ec06-bb236ac9fef6"
      },
      "execution_count": null,
      "outputs": [
        {
          "output_type": "stream",
          "name": "stdout",
          "text": [
            "[[   1994     142 2804443]\n",
            " [   1972     175 1954174]\n",
            " [   1993     135   12995]\n",
            " ...\n",
            " [   2016     140   10308]\n",
            " [   2018      85   11187]\n",
            " [   2019      87   10324]]\n",
            "[9.3 9.2 9.2 ... 4.9 4.9 4.9]\n"
          ]
        }
      ]
    },
    {
      "cell_type": "markdown",
      "source": [
        "Scaling"
      ],
      "metadata": {
        "id": "wHaMBIVK4YBm"
      }
    },
    {
      "cell_type": "code",
      "source": [
        "from sklearn.preprocessing import MinMaxScaler\n",
        "target=np.reshape(target,(-1,1))\n",
        "\n",
        "scaler_data=MinMaxScaler()\n",
        "scaler_target=MinMaxScaler()\n",
        "\n",
        "scaler_data.fit(data)\n",
        "scaler_target.fit(target)\n",
        "\n",
        "data_scaled=scaler_data.transform(data)\n",
        "target_scaled=scaler_target.transform(target)\n",
        "\n",
        "print(data_scaled)\n",
        "print(target_scaled)"
      ],
      "metadata": {
        "colab": {
          "base_uri": "https://localhost:8080/"
        },
        "id": "4ZAOeZZy2eS1",
        "outputId": "146757cd-0dd2-467b-8790-ccfdbbceab9e"
      },
      "execution_count": null,
      "outputs": [
        {
          "output_type": "stream",
          "name": "stdout",
          "text": [
            "[[7.31481481e-01 2.46192893e-01 1.00000000e+00]\n",
            " [5.27777778e-01 3.29949239e-01 6.95728412e-01]\n",
            " [7.22222222e-01 2.28426396e-01 1.07105500e-03]\n",
            " ...\n",
            " [9.35185185e-01 2.41116751e-01 1.09503117e-04]\n",
            " [9.53703704e-01 1.01522843e-01 4.24056189e-04]\n",
            " [9.62962963e-01 1.06598985e-01 1.15228770e-04]]\n",
            "[[1.        ]\n",
            " [0.97727273]\n",
            " [0.97727273]\n",
            " ...\n",
            " [0.        ]\n",
            " [0.        ]\n",
            " [0.        ]]\n"
          ]
        }
      ]
    },
    {
      "cell_type": "markdown",
      "source": [
        "Why Scaling?"
      ],
      "metadata": {
        "id": "ugvjH99k5tFO"
      }
    },
    {
      "cell_type": "code",
      "source": [
        "plt.hist(data[:,1], bins=100)\n",
        "plt.title('Original Run Time in minutes')\n",
        "plt.xlabel('Run Time in minutes')\n",
        "plt.ylabel('Frequency')\n",
        "plt.show()"
      ],
      "metadata": {
        "colab": {
          "base_uri": "https://localhost:8080/",
          "height": 472
        },
        "id": "5izuTnWE44cM",
        "outputId": "1030b6c8-6b1a-4bb3-f65e-1e6ac16eba56"
      },
      "execution_count": null,
      "outputs": [
        {
          "output_type": "display_data",
          "data": {
            "text/plain": [
              "<Figure size 640x480 with 1 Axes>"
            ],
            "image/png": "[encoded data removed]"
          },
          "metadata": {}
        }
      ]
    },
    {
      "cell_type": "code",
      "source": [
        "plt.hist(data_scaled[:,1], bins=100)\n",
        "plt.title('Scaled Run Time in minutes')\n",
        "plt.xlabel('Run Time in minutes')\n",
        "plt.ylabel('Frequency')\n",
        "plt.show()"
      ],
      "metadata": {
        "colab": {
          "base_uri": "https://localhost:8080/",
          "height": 472
        },
        "id": "UKtSzuRL6Bik",
        "outputId": "1d39cf35-b93d-471e-d1b4-7a759e7005da"
      },
      "execution_count": null,
      "outputs": [
        {
          "output_type": "display_data",
          "data": {
            "text/plain": [
              "<Figure size 640x480 with 1 Axes>"
            ],
            "image/png": "[encoded data removed]"
          },
          "metadata": {}
        }
      ]
    },
    {
      "cell_type": "markdown",
      "source": [
        "Other Scaling Methods"
      ],
      "metadata": {
        "id": "NIwfbw76-Jmf"
      }
    },
    {
      "cell_type": "code",
      "source": [
        "# 1 Standard Scaling\n",
        "from sklearn.preprocessing import StandardScaler\n",
        "\n",
        "standard_scaler=StandardScaler()\n",
        "standard_scaled_data=standard_scaler.fit_transform(data)"
      ],
      "metadata": {
        "id": "exKERIfy6ZJ0"
      },
      "execution_count": null,
      "outputs": []
    },
    {
      "cell_type": "code",
      "source": [
        "plt.hist(standard_scaled_data[:,2], bins=100)\n",
        "plt.title('Quantiled Run Time in minutes')\n",
        "plt.xlabel('Run Time in minutes')\n",
        "plt.ylabel('Frequency')\n",
        "plt.show()"
      ],
      "metadata": {
        "colab": {
          "base_uri": "https://localhost:8080/",
          "height": 472
        },
        "id": "sH5qPzYA-llN",
        "outputId": "56c1a193-5fe8-47ee-9e1f-1e7784983920"
      },
      "execution_count": null,
      "outputs": [
        {
          "output_type": "display_data",
          "data": {
            "text/plain": [
              "<Figure size 640x480 with 1 Axes>"
            ],
            "image/png": "[encoded data removed]"
          },
          "metadata": {}
        }
      ]
    },
    {
      "cell_type": "code",
      "source": [
        "# Quantile Transformation\n",
        "from sklearn.preprocessing import QuantileTransformer\n",
        "\n",
        "qtrans=QuantileTransformer(output_distribution='normal', random_state=0)\n",
        "quantile_transformed_data=qtrans.fit_transform(data)"
      ],
      "metadata": {
        "id": "On6BzKBx_Ew2"
      },
      "execution_count": null,
      "outputs": []
    },
    {
      "cell_type": "code",
      "source": [
        "plt.hist(quantile_transformed_data[:,2], bins=100)\n",
        "plt.show()"
      ],
      "metadata": {
        "colab": {
          "base_uri": "https://localhost:8080/",
          "height": 430
        },
        "id": "F65HIk9EAJfO",
        "outputId": "6f3eb161-ebc0-459e-db82-cbd082b52110"
      },
      "execution_count": null,
      "outputs": [
        {
          "output_type": "display_data",
          "data": {
            "text/plain": [
              "<Figure size 640x480 with 1 Axes>"
            ],
            "image/png": "[encoded data removed]"
          },
          "metadata": {}
        }
      ]
    },
    {
      "cell_type": "markdown",
      "source": [
        "Train Test Split"
      ],
      "metadata": {
        "id": "CU8UdESfAY3u"
      }
    },
    {
      "cell_type": "code",
      "source": [
        "from sklearn.model_selection import train_test_split\n",
        "\n",
        "train_data, test_data, train_target, test_target=train_test_split(data_scaled, target_scaled, test_size=0.2)"
      ],
      "metadata": {
        "id": "MA7iVzXVAQhV"
      },
      "execution_count": null,
      "outputs": []
    },
    {
      "cell_type": "markdown",
      "source": [
        "FFNN Architecture"
      ],
      "metadata": {
        "id": "eTKqZ6wVArSH"
      }
    },
    {
      "cell_type": "code",
      "source": [
        "import keras.models as models\n",
        "import keras.layers as layers\n",
        "import keras.optimizers as optimizers\n",
        "from keras.layers import Dropout\n",
        "import numpy as np\n",
        "\n",
        "model=models.Sequential()\n",
        "model.add(layers.Dense(32, input_dim=3,activation='relu'))\n",
        "model.add(layers.Dense(128, activation='relu'))\n",
        "model.add(layers.Dense(64, activation='relu'))\n",
        "model.add(layers.Dense(32, activation='relu'))\n",
        "model.add(layers.Dense(8, activation='relu'))\n",
        "model.add(layers.Dense(1, activation='linear'))\n",
        "\n",
        "model.compile(optimizer='adam', loss='mse', metrics=['mse','mae'])\n",
        "model.summary()"
      ],
      "metadata": {
        "colab": {
          "base_uri": "https://localhost:8080/"
        },
        "id": "ykN2XYe-AqBt",
        "outputId": "32f5e042-f1f1-4e4e-d952-524ca2759135"
      },
      "execution_count": null,
      "outputs": [
        {
          "output_type": "stream",
          "name": "stdout",
          "text": [
            "Model: \"sequential_3\"\n",
            "_________________________________________________________________\n",
            " Layer (type)                Output Shape              Param #   \n",
            "=================================================================\n",
            " dense_13 (Dense)            (None, 32)                128       \n",
            "                                                                 \n",
            " dense_14 (Dense)            (None, 128)               4224      \n",
            "                                                                 \n",
            " dense_15 (Dense)            (None, 64)                8256      \n",
            "                                                                 \n",
            " dense_16 (Dense)            (None, 32)                2080      \n",
            "                                                                 \n",
            " dense_17 (Dense)            (None, 8)                 264       \n",
            "                                                                 \n",
            " dense_18 (Dense)            (None, 1)                 9         \n",
            "                                                                 \n",
            "=================================================================\n",
            "Total params: 14961 (58.44 KB)\n",
            "Trainable params: 14961 (58.44 KB)\n",
            "Non-trainable params: 0 (0.00 Byte)\n",
            "_________________________________________________________________\n"
          ]
        }
      ]
    },
    {
      "cell_type": "code",
      "source": [
        "history=model.fit(train_data,train_target,epochs=200,validation_data=(test_data, test_target))"
      ],
      "metadata": {
        "colab": {
          "base_uri": "https://localhost:8080/"
        },
        "id": "j9uSGLu1PR2-",
        "outputId": "2dcfdd91-52b2-479b-d1f5-ef6c15dc6708"
      },
      "execution_count": null,
      "outputs": [
        {
          "output_type": "stream",
          "name": "stdout",
          "text": [
            "Epoch 1/200\n",
            "250/250 [==============================] - 2s 4ms/step - loss: 0.0547 - mse: 0.0547 - mae: 0.1835 - val_loss: 0.0245 - val_mse: 0.0245 - val_mae: 0.1259\n",
            "Epoch 2/200\n",
            "250/250 [==============================] - 1s 3ms/step - loss: 0.0245 - mse: 0.0245 - mae: 0.1262 - val_loss: 0.0241 - val_mse: 0.0241 - val_mae: 0.1248\n",
            "Epoch 3/200\n",
            "250/250 [==============================] - 1s 3ms/step - loss: 0.0241 - mse: 0.0241 - mae: 0.1251 - val_loss: 0.0238 - val_mse: 0.0238 - val_mae: 0.1240\n",
            "Epoch 4/200\n",
            "250/250 [==============================] - 1s 3ms/step - loss: 0.0239 - mse: 0.0239 - mae: 0.1241 - val_loss: 0.0244 - val_mse: 0.0244 - val_mae: 0.1241\n",
            "Epoch 5/200\n",
            "250/250 [==============================] - 1s 3ms/step - loss: 0.0238 - mse: 0.0238 - mae: 0.1238 - val_loss: 0.0238 - val_mse: 0.0238 - val_mae: 0.1233\n",
            "Epoch 6/200\n",
            "250/250 [==============================] - 1s 3ms/step - loss: 0.0237 - mse: 0.0237 - mae: 0.1235 - val_loss: 0.0237 - val_mse: 0.0237 - val_mae: 0.1240\n",
            "Epoch 7/200\n",
            "250/250 [==============================] - 1s 3ms/step - loss: 0.0238 - mse: 0.0238 - mae: 0.1236 - val_loss: 0.0234 - val_mse: 0.0234 - val_mae: 0.1214\n",
            "Epoch 8/200\n",
            "250/250 [==============================] - 1s 3ms/step - loss: 0.0235 - mse: 0.0235 - mae: 0.1227 - val_loss: 0.0238 - val_mse: 0.0238 - val_mae: 0.1224\n",
            "Epoch 9/200\n",
            "250/250 [==============================] - 1s 5ms/step - loss: 0.0233 - mse: 0.0233 - mae: 0.1220 - val_loss: 0.0237 - val_mse: 0.0237 - val_mae: 0.1238\n",
            "Epoch 10/200\n",
            "250/250 [==============================] - 1s 5ms/step - loss: 0.0234 - mse: 0.0234 - mae: 0.1222 - val_loss: 0.0232 - val_mse: 0.0232 - val_mae: 0.1208\n",
            "Epoch 11/200\n",
            "250/250 [==============================] - 1s 5ms/step - loss: 0.0233 - mse: 0.0233 - mae: 0.1220 - val_loss: 0.0233 - val_mse: 0.0233 - val_mae: 0.1212\n",
            "Epoch 12/200\n",
            "250/250 [==============================] - 1s 4ms/step - loss: 0.0232 - mse: 0.0232 - mae: 0.1219 - val_loss: 0.0231 - val_mse: 0.0231 - val_mae: 0.1206\n",
            "Epoch 13/200\n",
            "250/250 [==============================] - 1s 4ms/step - loss: 0.0235 - mse: 0.0235 - mae: 0.1227 - val_loss: 0.0245 - val_mse: 0.0245 - val_mae: 0.1239\n",
            "Epoch 14/200\n",
            "250/250 [==============================] - 1s 3ms/step - loss: 0.0233 - mse: 0.0233 - mae: 0.1222 - val_loss: 0.0234 - val_mse: 0.0234 - val_mae: 0.1226\n",
            "Epoch 15/200\n",
            "250/250 [==============================] - 1s 3ms/step - loss: 0.0233 - mse: 0.0233 - mae: 0.1220 - val_loss: 0.0230 - val_mse: 0.0230 - val_mae: 0.1205\n",
            "Epoch 16/200\n",
            "250/250 [==============================] - 1s 3ms/step - loss: 0.0232 - mse: 0.0232 - mae: 0.1217 - val_loss: 0.0235 - val_mse: 0.0235 - val_mae: 0.1212\n",
            "Epoch 17/200\n",
            "250/250 [==============================] - 1s 3ms/step - loss: 0.0232 - mse: 0.0232 - mae: 0.1217 - val_loss: 0.0231 - val_mse: 0.0231 - val_mae: 0.1205\n",
            "Epoch 18/200\n",
            "250/250 [==============================] - 1s 3ms/step - loss: 0.0231 - mse: 0.0231 - mae: 0.1215 - val_loss: 0.0237 - val_mse: 0.0237 - val_mae: 0.1215\n",
            "Epoch 19/200\n",
            "250/250 [==============================] - 1s 3ms/step - loss: 0.0232 - mse: 0.0232 - mae: 0.1213 - val_loss: 0.0229 - val_mse: 0.0229 - val_mae: 0.1202\n",
            "Epoch 20/200\n",
            "250/250 [==============================] - 1s 3ms/step - loss: 0.0231 - mse: 0.0231 - mae: 0.1210 - val_loss: 0.0230 - val_mse: 0.0230 - val_mae: 0.1209\n",
            "Epoch 21/200\n",
            "250/250 [==============================] - 1s 3ms/step - loss: 0.0233 - mse: 0.0233 - mae: 0.1219 - val_loss: 0.0230 - val_mse: 0.0230 - val_mae: 0.1209\n",
            "Epoch 22/200\n",
            "250/250 [==============================] - 1s 3ms/step - loss: 0.0229 - mse: 0.0229 - mae: 0.1208 - val_loss: 0.0229 - val_mse: 0.0229 - val_mae: 0.1201\n",
            "Epoch 23/200\n",
            "250/250 [==============================] - 1s 3ms/step - loss: 0.0231 - mse: 0.0231 - mae: 0.1212 - val_loss: 0.0231 - val_mse: 0.0231 - val_mae: 0.1214\n",
            "Epoch 24/200\n",
            "250/250 [==============================] - 1s 3ms/step - loss: 0.0232 - mse: 0.0232 - mae: 0.1216 - val_loss: 0.0232 - val_mse: 0.0232 - val_mae: 0.1208\n",
            "Epoch 25/200\n",
            "250/250 [==============================] - 1s 5ms/step - loss: 0.0230 - mse: 0.0230 - mae: 0.1211 - val_loss: 0.0232 - val_mse: 0.0232 - val_mae: 0.1203\n",
            "Epoch 26/200\n",
            "250/250 [==============================] - 1s 5ms/step - loss: 0.0230 - mse: 0.0230 - mae: 0.1209 - val_loss: 0.0234 - val_mse: 0.0234 - val_mae: 0.1208\n",
            "Epoch 27/200\n",
            "250/250 [==============================] - 1s 5ms/step - loss: 0.0230 - mse: 0.0230 - mae: 0.1211 - val_loss: 0.0229 - val_mse: 0.0229 - val_mae: 0.1201\n",
            "Epoch 28/200\n",
            "250/250 [==============================] - 1s 4ms/step - loss: 0.0231 - mse: 0.0231 - mae: 0.1216 - val_loss: 0.0229 - val_mse: 0.0229 - val_mae: 0.1206\n",
            "Epoch 29/200\n",
            "250/250 [==============================] - 1s 4ms/step - loss: 0.0229 - mse: 0.0229 - mae: 0.1205 - val_loss: 0.0232 - val_mse: 0.0232 - val_mae: 0.1205\n",
            "Epoch 30/200\n",
            "250/250 [==============================] - 1s 3ms/step - loss: 0.0229 - mse: 0.0229 - mae: 0.1207 - val_loss: 0.0228 - val_mse: 0.0228 - val_mae: 0.1205\n",
            "Epoch 31/200\n",
            "250/250 [==============================] - 1s 3ms/step - loss: 0.0230 - mse: 0.0230 - mae: 0.1212 - val_loss: 0.0230 - val_mse: 0.0230 - val_mae: 0.1208\n",
            "Epoch 32/200\n",
            "250/250 [==============================] - 1s 4ms/step - loss: 0.0229 - mse: 0.0229 - mae: 0.1208 - val_loss: 0.0228 - val_mse: 0.0228 - val_mae: 0.1199\n",
            "Epoch 33/200\n",
            "250/250 [==============================] - 1s 3ms/step - loss: 0.0229 - mse: 0.0229 - mae: 0.1207 - val_loss: 0.0229 - val_mse: 0.0229 - val_mae: 0.1195\n",
            "Epoch 34/200\n",
            "250/250 [==============================] - 1s 3ms/step - loss: 0.0229 - mse: 0.0229 - mae: 0.1207 - val_loss: 0.0229 - val_mse: 0.0229 - val_mae: 0.1206\n",
            "Epoch 35/200\n",
            "250/250 [==============================] - 1s 3ms/step - loss: 0.0229 - mse: 0.0229 - mae: 0.1205 - val_loss: 0.0228 - val_mse: 0.0228 - val_mae: 0.1200\n",
            "Epoch 36/200\n",
            "250/250 [==============================] - 1s 3ms/step - loss: 0.0229 - mse: 0.0229 - mae: 0.1209 - val_loss: 0.0238 - val_mse: 0.0238 - val_mae: 0.1215\n",
            "Epoch 37/200\n",
            "250/250 [==============================] - 1s 3ms/step - loss: 0.0229 - mse: 0.0229 - mae: 0.1208 - val_loss: 0.0243 - val_mse: 0.0243 - val_mae: 0.1231\n",
            "Epoch 38/200\n",
            "250/250 [==============================] - 1s 3ms/step - loss: 0.0229 - mse: 0.0229 - mae: 0.1209 - val_loss: 0.0229 - val_mse: 0.0229 - val_mae: 0.1199\n",
            "Epoch 39/200\n",
            "250/250 [==============================] - 1s 4ms/step - loss: 0.0230 - mse: 0.0230 - mae: 0.1208 - val_loss: 0.0230 - val_mse: 0.0230 - val_mae: 0.1203\n",
            "Epoch 40/200\n",
            "250/250 [==============================] - 1s 5ms/step - loss: 0.0229 - mse: 0.0229 - mae: 0.1206 - val_loss: 0.0228 - val_mse: 0.0228 - val_mae: 0.1198\n",
            "Epoch 41/200\n",
            "250/250 [==============================] - 2s 7ms/step - loss: 0.0229 - mse: 0.0229 - mae: 0.1209 - val_loss: 0.0230 - val_mse: 0.0230 - val_mae: 0.1198\n",
            "Epoch 42/200\n",
            "250/250 [==============================] - 2s 7ms/step - loss: 0.0228 - mse: 0.0228 - mae: 0.1205 - val_loss: 0.0228 - val_mse: 0.0228 - val_mae: 0.1196\n",
            "Epoch 43/200\n",
            "250/250 [==============================] - 1s 4ms/step - loss: 0.0229 - mse: 0.0229 - mae: 0.1206 - val_loss: 0.0229 - val_mse: 0.0229 - val_mae: 0.1204\n",
            "Epoch 44/200\n",
            "250/250 [==============================] - 1s 4ms/step - loss: 0.0229 - mse: 0.0229 - mae: 0.1206 - val_loss: 0.0227 - val_mse: 0.0227 - val_mae: 0.1196\n",
            "Epoch 45/200\n",
            "250/250 [==============================] - 1s 3ms/step - loss: 0.0228 - mse: 0.0228 - mae: 0.1203 - val_loss: 0.0229 - val_mse: 0.0229 - val_mae: 0.1203\n",
            "Epoch 46/200\n",
            "250/250 [==============================] - 1s 3ms/step - loss: 0.0227 - mse: 0.0227 - mae: 0.1201 - val_loss: 0.0234 - val_mse: 0.0234 - val_mae: 0.1208\n",
            "Epoch 47/200\n",
            "250/250 [==============================] - 1s 4ms/step - loss: 0.0227 - mse: 0.0227 - mae: 0.1202 - val_loss: 0.0233 - val_mse: 0.0233 - val_mae: 0.1220\n",
            "Epoch 48/200\n",
            "250/250 [==============================] - 1s 4ms/step - loss: 0.0229 - mse: 0.0229 - mae: 0.1209 - val_loss: 0.0229 - val_mse: 0.0229 - val_mae: 0.1199\n",
            "Epoch 49/200\n",
            "250/250 [==============================] - 1s 4ms/step - loss: 0.0228 - mse: 0.0228 - mae: 0.1204 - val_loss: 0.0233 - val_mse: 0.0233 - val_mae: 0.1226\n",
            "Epoch 50/200\n",
            "250/250 [==============================] - 1s 3ms/step - loss: 0.0228 - mse: 0.0228 - mae: 0.1206 - val_loss: 0.0231 - val_mse: 0.0231 - val_mae: 0.1205\n",
            "Epoch 51/200\n",
            "250/250 [==============================] - 1s 3ms/step - loss: 0.0228 - mse: 0.0228 - mae: 0.1202 - val_loss: 0.0227 - val_mse: 0.0227 - val_mae: 0.1195\n",
            "Epoch 52/200\n",
            "250/250 [==============================] - 1s 3ms/step - loss: 0.0228 - mse: 0.0228 - mae: 0.1204 - val_loss: 0.0229 - val_mse: 0.0229 - val_mae: 0.1197\n",
            "Epoch 53/200\n",
            "250/250 [==============================] - 1s 3ms/step - loss: 0.0227 - mse: 0.0227 - mae: 0.1201 - val_loss: 0.0232 - val_mse: 0.0232 - val_mae: 0.1203\n",
            "Epoch 54/200\n",
            "250/250 [==============================] - 1s 5ms/step - loss: 0.0227 - mse: 0.0227 - mae: 0.1202 - val_loss: 0.0231 - val_mse: 0.0231 - val_mae: 0.1201\n",
            "Epoch 55/200\n",
            "250/250 [==============================] - 2s 6ms/step - loss: 0.0228 - mse: 0.0228 - mae: 0.1205 - val_loss: 0.0228 - val_mse: 0.0228 - val_mae: 0.1193\n",
            "Epoch 56/200\n",
            "250/250 [==============================] - 1s 5ms/step - loss: 0.0227 - mse: 0.0227 - mae: 0.1201 - val_loss: 0.0230 - val_mse: 0.0230 - val_mae: 0.1214\n",
            "Epoch 57/200\n",
            "250/250 [==============================] - 1s 3ms/step - loss: 0.0228 - mse: 0.0228 - mae: 0.1203 - val_loss: 0.0228 - val_mse: 0.0228 - val_mae: 0.1195\n",
            "Epoch 58/200\n",
            "250/250 [==============================] - 1s 4ms/step - loss: 0.0228 - mse: 0.0228 - mae: 0.1202 - val_loss: 0.0243 - val_mse: 0.0243 - val_mae: 0.1232\n",
            "Epoch 59/200\n",
            "250/250 [==============================] - 1s 4ms/step - loss: 0.0227 - mse: 0.0227 - mae: 0.1201 - val_loss: 0.0228 - val_mse: 0.0228 - val_mae: 0.1194\n",
            "Epoch 60/200\n",
            "250/250 [==============================] - 1s 3ms/step - loss: 0.0229 - mse: 0.0229 - mae: 0.1207 - val_loss: 0.0227 - val_mse: 0.0227 - val_mae: 0.1197\n",
            "Epoch 61/200\n",
            "250/250 [==============================] - 1s 3ms/step - loss: 0.0228 - mse: 0.0228 - mae: 0.1203 - val_loss: 0.0230 - val_mse: 0.0230 - val_mae: 0.1200\n",
            "Epoch 62/200\n",
            "250/250 [==============================] - 1s 4ms/step - loss: 0.0228 - mse: 0.0228 - mae: 0.1202 - val_loss: 0.0228 - val_mse: 0.0228 - val_mae: 0.1195\n",
            "Epoch 63/200\n",
            "250/250 [==============================] - 1s 4ms/step - loss: 0.0228 - mse: 0.0228 - mae: 0.1208 - val_loss: 0.0231 - val_mse: 0.0231 - val_mae: 0.1200\n",
            "Epoch 64/200\n",
            "250/250 [==============================] - 1s 3ms/step - loss: 0.0227 - mse: 0.0227 - mae: 0.1201 - val_loss: 0.0233 - val_mse: 0.0233 - val_mae: 0.1205\n",
            "Epoch 65/200\n",
            "250/250 [==============================] - 1s 3ms/step - loss: 0.0227 - mse: 0.0227 - mae: 0.1200 - val_loss: 0.0230 - val_mse: 0.0230 - val_mae: 0.1198\n",
            "Epoch 66/200\n",
            "250/250 [==============================] - 1s 3ms/step - loss: 0.0227 - mse: 0.0227 - mae: 0.1202 - val_loss: 0.0231 - val_mse: 0.0231 - val_mae: 0.1200\n",
            "Epoch 67/200\n",
            "250/250 [==============================] - 1s 3ms/step - loss: 0.0227 - mse: 0.0227 - mae: 0.1197 - val_loss: 0.0228 - val_mse: 0.0228 - val_mae: 0.1200\n",
            "Epoch 68/200\n",
            "250/250 [==============================] - 1s 4ms/step - loss: 0.0227 - mse: 0.0227 - mae: 0.1201 - val_loss: 0.0229 - val_mse: 0.0229 - val_mae: 0.1198\n",
            "Epoch 69/200\n",
            "250/250 [==============================] - 1s 5ms/step - loss: 0.0227 - mse: 0.0227 - mae: 0.1201 - val_loss: 0.0232 - val_mse: 0.0232 - val_mae: 0.1201\n",
            "Epoch 70/200\n",
            "250/250 [==============================] - 1s 5ms/step - loss: 0.0228 - mse: 0.0228 - mae: 0.1203 - val_loss: 0.0228 - val_mse: 0.0228 - val_mae: 0.1204\n",
            "Epoch 71/200\n",
            "250/250 [==============================] - 1s 5ms/step - loss: 0.0226 - mse: 0.0226 - mae: 0.1197 - val_loss: 0.0227 - val_mse: 0.0227 - val_mae: 0.1195\n",
            "Epoch 72/200\n",
            "250/250 [==============================] - 1s 3ms/step - loss: 0.0227 - mse: 0.0227 - mae: 0.1201 - val_loss: 0.0228 - val_mse: 0.0228 - val_mae: 0.1192\n",
            "Epoch 73/200\n",
            "250/250 [==============================] - 1s 3ms/step - loss: 0.0227 - mse: 0.0227 - mae: 0.1201 - val_loss: 0.0235 - val_mse: 0.0235 - val_mae: 0.1206\n",
            "Epoch 74/200\n",
            "250/250 [==============================] - 1s 3ms/step - loss: 0.0227 - mse: 0.0227 - mae: 0.1198 - val_loss: 0.0228 - val_mse: 0.0228 - val_mae: 0.1193\n",
            "Epoch 75/200\n",
            "250/250 [==============================] - 1s 3ms/step - loss: 0.0228 - mse: 0.0228 - mae: 0.1202 - val_loss: 0.0231 - val_mse: 0.0231 - val_mae: 0.1201\n",
            "Epoch 76/200\n",
            "250/250 [==============================] - 1s 3ms/step - loss: 0.0227 - mse: 0.0227 - mae: 0.1198 - val_loss: 0.0227 - val_mse: 0.0227 - val_mae: 0.1196\n",
            "Epoch 77/200\n",
            "250/250 [==============================] - 1s 3ms/step - loss: 0.0226 - mse: 0.0226 - mae: 0.1200 - val_loss: 0.0229 - val_mse: 0.0229 - val_mae: 0.1209\n",
            "Epoch 78/200\n",
            "250/250 [==============================] - 1s 3ms/step - loss: 0.0228 - mse: 0.0228 - mae: 0.1203 - val_loss: 0.0233 - val_mse: 0.0233 - val_mae: 0.1207\n",
            "Epoch 79/200\n",
            "250/250 [==============================] - 1s 3ms/step - loss: 0.0227 - mse: 0.0227 - mae: 0.1201 - val_loss: 0.0230 - val_mse: 0.0230 - val_mae: 0.1212\n",
            "Epoch 80/200\n",
            "250/250 [==============================] - 1s 3ms/step - loss: 0.0226 - mse: 0.0226 - mae: 0.1200 - val_loss: 0.0229 - val_mse: 0.0229 - val_mae: 0.1204\n",
            "Epoch 81/200\n",
            "250/250 [==============================] - 1s 3ms/step - loss: 0.0226 - mse: 0.0226 - mae: 0.1199 - val_loss: 0.0227 - val_mse: 0.0227 - val_mae: 0.1195\n",
            "Epoch 82/200\n",
            "250/250 [==============================] - 1s 3ms/step - loss: 0.0227 - mse: 0.0227 - mae: 0.1199 - val_loss: 0.0228 - val_mse: 0.0228 - val_mae: 0.1193\n",
            "Epoch 83/200\n",
            "250/250 [==============================] - 1s 3ms/step - loss: 0.0227 - mse: 0.0227 - mae: 0.1201 - val_loss: 0.0228 - val_mse: 0.0228 - val_mae: 0.1196\n",
            "Epoch 84/200\n",
            "250/250 [==============================] - 1s 4ms/step - loss: 0.0227 - mse: 0.0227 - mae: 0.1202 - val_loss: 0.0227 - val_mse: 0.0227 - val_mae: 0.1194\n",
            "Epoch 85/200\n",
            "250/250 [==============================] - 1s 5ms/step - loss: 0.0226 - mse: 0.0226 - mae: 0.1197 - val_loss: 0.0228 - val_mse: 0.0228 - val_mae: 0.1198\n",
            "Epoch 86/200\n",
            "250/250 [==============================] - 1s 5ms/step - loss: 0.0228 - mse: 0.0228 - mae: 0.1202 - val_loss: 0.0229 - val_mse: 0.0229 - val_mae: 0.1210\n",
            "Epoch 87/200\n",
            "250/250 [==============================] - 1s 5ms/step - loss: 0.0226 - mse: 0.0226 - mae: 0.1200 - val_loss: 0.0228 - val_mse: 0.0228 - val_mae: 0.1196\n",
            "Epoch 88/200\n",
            "250/250 [==============================] - 1s 3ms/step - loss: 0.0227 - mse: 0.0227 - mae: 0.1199 - val_loss: 0.0227 - val_mse: 0.0227 - val_mae: 0.1193\n",
            "Epoch 89/200\n",
            "250/250 [==============================] - 1s 3ms/step - loss: 0.0227 - mse: 0.0227 - mae: 0.1198 - val_loss: 0.0230 - val_mse: 0.0230 - val_mae: 0.1204\n",
            "Epoch 90/200\n",
            "250/250 [==============================] - 1s 3ms/step - loss: 0.0226 - mse: 0.0226 - mae: 0.1199 - val_loss: 0.0226 - val_mse: 0.0226 - val_mae: 0.1192\n",
            "Epoch 91/200\n",
            "250/250 [==============================] - 1s 3ms/step - loss: 0.0227 - mse: 0.0227 - mae: 0.1203 - val_loss: 0.0228 - val_mse: 0.0228 - val_mae: 0.1192\n",
            "Epoch 92/200\n",
            "250/250 [==============================] - 1s 3ms/step - loss: 0.0227 - mse: 0.0227 - mae: 0.1199 - val_loss: 0.0229 - val_mse: 0.0229 - val_mae: 0.1195\n",
            "Epoch 93/200\n",
            "250/250 [==============================] - 1s 3ms/step - loss: 0.0226 - mse: 0.0226 - mae: 0.1195 - val_loss: 0.0229 - val_mse: 0.0229 - val_mae: 0.1200\n",
            "Epoch 94/200\n",
            "250/250 [==============================] - 1s 3ms/step - loss: 0.0227 - mse: 0.0227 - mae: 0.1201 - val_loss: 0.0228 - val_mse: 0.0228 - val_mae: 0.1203\n",
            "Epoch 95/200\n",
            "250/250 [==============================] - 1s 3ms/step - loss: 0.0226 - mse: 0.0226 - mae: 0.1199 - val_loss: 0.0227 - val_mse: 0.0227 - val_mae: 0.1195\n",
            "Epoch 96/200\n",
            "250/250 [==============================] - 1s 3ms/step - loss: 0.0226 - mse: 0.0226 - mae: 0.1197 - val_loss: 0.0227 - val_mse: 0.0227 - val_mae: 0.1195\n",
            "Epoch 97/200\n",
            "250/250 [==============================] - 1s 3ms/step - loss: 0.0227 - mse: 0.0227 - mae: 0.1198 - val_loss: 0.0229 - val_mse: 0.0229 - val_mae: 0.1195\n",
            "Epoch 98/200\n",
            "250/250 [==============================] - 1s 3ms/step - loss: 0.0226 - mse: 0.0226 - mae: 0.1197 - val_loss: 0.0228 - val_mse: 0.0228 - val_mae: 0.1195\n",
            "Epoch 99/200\n",
            "250/250 [==============================] - 1s 4ms/step - loss: 0.0225 - mse: 0.0225 - mae: 0.1194 - val_loss: 0.0228 - val_mse: 0.0228 - val_mae: 0.1202\n",
            "Epoch 100/200\n",
            "250/250 [==============================] - 1s 5ms/step - loss: 0.0225 - mse: 0.0225 - mae: 0.1196 - val_loss: 0.0230 - val_mse: 0.0230 - val_mae: 0.1199\n",
            "Epoch 101/200\n",
            "250/250 [==============================] - 1s 5ms/step - loss: 0.0226 - mse: 0.0226 - mae: 0.1198 - val_loss: 0.0228 - val_mse: 0.0228 - val_mae: 0.1203\n",
            "Epoch 102/200\n",
            "250/250 [==============================] - 1s 5ms/step - loss: 0.0227 - mse: 0.0227 - mae: 0.1199 - val_loss: 0.0227 - val_mse: 0.0227 - val_mae: 0.1193\n",
            "Epoch 103/200\n",
            "250/250 [==============================] - 1s 4ms/step - loss: 0.0226 - mse: 0.0226 - mae: 0.1196 - val_loss: 0.0230 - val_mse: 0.0230 - val_mae: 0.1197\n",
            "Epoch 104/200\n",
            "250/250 [==============================] - 1s 3ms/step - loss: 0.0226 - mse: 0.0226 - mae: 0.1196 - val_loss: 0.0227 - val_mse: 0.0227 - val_mae: 0.1191\n",
            "Epoch 105/200\n",
            "250/250 [==============================] - 1s 3ms/step - loss: 0.0226 - mse: 0.0226 - mae: 0.1198 - val_loss: 0.0231 - val_mse: 0.0231 - val_mae: 0.1197\n",
            "Epoch 106/200\n",
            "250/250 [==============================] - 1s 3ms/step - loss: 0.0226 - mse: 0.0226 - mae: 0.1196 - val_loss: 0.0228 - val_mse: 0.0228 - val_mae: 0.1193\n",
            "Epoch 107/200\n",
            "250/250 [==============================] - 1s 3ms/step - loss: 0.0226 - mse: 0.0226 - mae: 0.1198 - val_loss: 0.0230 - val_mse: 0.0230 - val_mae: 0.1202\n",
            "Epoch 108/200\n",
            "250/250 [==============================] - 1s 3ms/step - loss: 0.0226 - mse: 0.0226 - mae: 0.1196 - val_loss: 0.0229 - val_mse: 0.0229 - val_mae: 0.1202\n",
            "Epoch 109/200\n",
            "250/250 [==============================] - 1s 3ms/step - loss: 0.0225 - mse: 0.0225 - mae: 0.1197 - val_loss: 0.0227 - val_mse: 0.0227 - val_mae: 0.1197\n",
            "Epoch 110/200\n",
            "250/250 [==============================] - 1s 3ms/step - loss: 0.0226 - mse: 0.0226 - mae: 0.1197 - val_loss: 0.0228 - val_mse: 0.0228 - val_mae: 0.1202\n",
            "Epoch 111/200\n",
            "250/250 [==============================] - 1s 3ms/step - loss: 0.0226 - mse: 0.0226 - mae: 0.1197 - val_loss: 0.0227 - val_mse: 0.0227 - val_mae: 0.1199\n",
            "Epoch 112/200\n",
            "250/250 [==============================] - 1s 3ms/step - loss: 0.0225 - mse: 0.0225 - mae: 0.1193 - val_loss: 0.0234 - val_mse: 0.0234 - val_mae: 0.1207\n",
            "Epoch 113/200\n",
            "250/250 [==============================] - 1s 3ms/step - loss: 0.0226 - mse: 0.0226 - mae: 0.1195 - val_loss: 0.0226 - val_mse: 0.0226 - val_mae: 0.1191\n",
            "Epoch 114/200\n",
            "250/250 [==============================] - 1s 3ms/step - loss: 0.0225 - mse: 0.0225 - mae: 0.1193 - val_loss: 0.0227 - val_mse: 0.0227 - val_mae: 0.1197\n",
            "Epoch 115/200\n",
            "250/250 [==============================] - 1s 3ms/step - loss: 0.0225 - mse: 0.0225 - mae: 0.1195 - val_loss: 0.0236 - val_mse: 0.0236 - val_mae: 0.1211\n",
            "Epoch 116/200\n",
            "250/250 [==============================] - 1s 5ms/step - loss: 0.0226 - mse: 0.0226 - mae: 0.1196 - val_loss: 0.0230 - val_mse: 0.0230 - val_mae: 0.1195\n",
            "Epoch 117/200\n",
            "250/250 [==============================] - 1s 5ms/step - loss: 0.0226 - mse: 0.0226 - mae: 0.1196 - val_loss: 0.0228 - val_mse: 0.0228 - val_mae: 0.1191\n",
            "Epoch 118/200\n",
            "250/250 [==============================] - 1s 6ms/step - loss: 0.0226 - mse: 0.0226 - mae: 0.1196 - val_loss: 0.0228 - val_mse: 0.0228 - val_mae: 0.1197\n",
            "Epoch 119/200\n",
            "250/250 [==============================] - 1s 3ms/step - loss: 0.0225 - mse: 0.0225 - mae: 0.1196 - val_loss: 0.0232 - val_mse: 0.0232 - val_mae: 0.1201\n",
            "Epoch 120/200\n",
            "250/250 [==============================] - 1s 3ms/step - loss: 0.0226 - mse: 0.0226 - mae: 0.1196 - val_loss: 0.0229 - val_mse: 0.0229 - val_mae: 0.1198\n",
            "Epoch 121/200\n",
            "250/250 [==============================] - 1s 3ms/step - loss: 0.0225 - mse: 0.0225 - mae: 0.1195 - val_loss: 0.0252 - val_mse: 0.0252 - val_mae: 0.1258\n",
            "Epoch 122/200\n",
            "250/250 [==============================] - 1s 3ms/step - loss: 0.0225 - mse: 0.0225 - mae: 0.1193 - val_loss: 0.0227 - val_mse: 0.0227 - val_mae: 0.1195\n",
            "Epoch 123/200\n",
            "250/250 [==============================] - 1s 3ms/step - loss: 0.0226 - mse: 0.0226 - mae: 0.1197 - val_loss: 0.0230 - val_mse: 0.0230 - val_mae: 0.1204\n",
            "Epoch 124/200\n",
            "250/250 [==============================] - 1s 3ms/step - loss: 0.0226 - mse: 0.0226 - mae: 0.1196 - val_loss: 0.0227 - val_mse: 0.0227 - val_mae: 0.1196\n",
            "Epoch 125/200\n",
            "250/250 [==============================] - 1s 3ms/step - loss: 0.0225 - mse: 0.0225 - mae: 0.1195 - val_loss: 0.0228 - val_mse: 0.0228 - val_mae: 0.1192\n",
            "Epoch 126/200\n",
            "250/250 [==============================] - 1s 3ms/step - loss: 0.0225 - mse: 0.0225 - mae: 0.1193 - val_loss: 0.0228 - val_mse: 0.0228 - val_mae: 0.1193\n",
            "Epoch 127/200\n",
            "250/250 [==============================] - 1s 3ms/step - loss: 0.0225 - mse: 0.0225 - mae: 0.1196 - val_loss: 0.0227 - val_mse: 0.0227 - val_mae: 0.1192\n",
            "Epoch 128/200\n",
            "250/250 [==============================] - 1s 3ms/step - loss: 0.0225 - mse: 0.0225 - mae: 0.1194 - val_loss: 0.0227 - val_mse: 0.0227 - val_mae: 0.1191\n",
            "Epoch 129/200\n",
            "250/250 [==============================] - 1s 3ms/step - loss: 0.0226 - mse: 0.0226 - mae: 0.1194 - val_loss: 0.0228 - val_mse: 0.0228 - val_mae: 0.1194\n",
            "Epoch 130/200\n",
            "250/250 [==============================] - 1s 3ms/step - loss: 0.0224 - mse: 0.0224 - mae: 0.1193 - val_loss: 0.0227 - val_mse: 0.0227 - val_mae: 0.1194\n",
            "Epoch 131/200\n",
            "250/250 [==============================] - 1s 3ms/step - loss: 0.0225 - mse: 0.0225 - mae: 0.1196 - val_loss: 0.0227 - val_mse: 0.0227 - val_mae: 0.1193\n",
            "Epoch 132/200\n",
            "250/250 [==============================] - 1s 5ms/step - loss: 0.0225 - mse: 0.0225 - mae: 0.1193 - val_loss: 0.0228 - val_mse: 0.0228 - val_mae: 0.1194\n",
            "Epoch 133/200\n",
            "250/250 [==============================] - 1s 5ms/step - loss: 0.0225 - mse: 0.0225 - mae: 0.1197 - val_loss: 0.0227 - val_mse: 0.0227 - val_mae: 0.1191\n",
            "Epoch 134/200\n",
            "250/250 [==============================] - 1s 5ms/step - loss: 0.0226 - mse: 0.0226 - mae: 0.1197 - val_loss: 0.0228 - val_mse: 0.0228 - val_mae: 0.1198\n",
            "Epoch 135/200\n",
            "250/250 [==============================] - 1s 3ms/step - loss: 0.0225 - mse: 0.0225 - mae: 0.1196 - val_loss: 0.0227 - val_mse: 0.0227 - val_mae: 0.1191\n",
            "Epoch 136/200\n",
            "250/250 [==============================] - 1s 3ms/step - loss: 0.0224 - mse: 0.0224 - mae: 0.1192 - val_loss: 0.0232 - val_mse: 0.0232 - val_mae: 0.1197\n",
            "Epoch 137/200\n",
            "250/250 [==============================] - 1s 3ms/step - loss: 0.0225 - mse: 0.0225 - mae: 0.1194 - val_loss: 0.0229 - val_mse: 0.0229 - val_mae: 0.1197\n",
            "Epoch 138/200\n",
            "250/250 [==============================] - 1s 3ms/step - loss: 0.0225 - mse: 0.0225 - mae: 0.1194 - val_loss: 0.0230 - val_mse: 0.0230 - val_mae: 0.1197\n",
            "Epoch 139/200\n",
            "250/250 [==============================] - 1s 3ms/step - loss: 0.0224 - mse: 0.0224 - mae: 0.1192 - val_loss: 0.0230 - val_mse: 0.0230 - val_mae: 0.1194\n",
            "Epoch 140/200\n",
            "250/250 [==============================] - 1s 3ms/step - loss: 0.0225 - mse: 0.0225 - mae: 0.1194 - val_loss: 0.0230 - val_mse: 0.0230 - val_mae: 0.1195\n",
            "Epoch 141/200\n",
            "250/250 [==============================] - 1s 3ms/step - loss: 0.0225 - mse: 0.0225 - mae: 0.1194 - val_loss: 0.0228 - val_mse: 0.0228 - val_mae: 0.1193\n",
            "Epoch 142/200\n",
            "250/250 [==============================] - 1s 3ms/step - loss: 0.0225 - mse: 0.0225 - mae: 0.1192 - val_loss: 0.0229 - val_mse: 0.0229 - val_mae: 0.1197\n",
            "Epoch 143/200\n",
            "250/250 [==============================] - 1s 3ms/step - loss: 0.0226 - mse: 0.0226 - mae: 0.1198 - val_loss: 0.0229 - val_mse: 0.0229 - val_mae: 0.1202\n",
            "Epoch 144/200\n",
            "250/250 [==============================] - 1s 3ms/step - loss: 0.0224 - mse: 0.0224 - mae: 0.1191 - val_loss: 0.0227 - val_mse: 0.0227 - val_mae: 0.1195\n",
            "Epoch 145/200\n",
            "250/250 [==============================] - 1s 3ms/step - loss: 0.0225 - mse: 0.0225 - mae: 0.1194 - val_loss: 0.0226 - val_mse: 0.0226 - val_mae: 0.1189\n",
            "Epoch 146/200\n",
            "250/250 [==============================] - 1s 3ms/step - loss: 0.0224 - mse: 0.0224 - mae: 0.1192 - val_loss: 0.0228 - val_mse: 0.0228 - val_mae: 0.1188\n",
            "Epoch 147/200\n",
            "250/250 [==============================] - 1s 4ms/step - loss: 0.0224 - mse: 0.0224 - mae: 0.1191 - val_loss: 0.0226 - val_mse: 0.0226 - val_mae: 0.1192\n",
            "Epoch 148/200\n",
            "250/250 [==============================] - 1s 5ms/step - loss: 0.0225 - mse: 0.0225 - mae: 0.1194 - val_loss: 0.0231 - val_mse: 0.0231 - val_mae: 0.1197\n",
            "Epoch 149/200\n",
            "250/250 [==============================] - 1s 5ms/step - loss: 0.0225 - mse: 0.0225 - mae: 0.1194 - val_loss: 0.0227 - val_mse: 0.0227 - val_mae: 0.1201\n",
            "Epoch 150/200\n",
            "250/250 [==============================] - 1s 6ms/step - loss: 0.0224 - mse: 0.0224 - mae: 0.1192 - val_loss: 0.0229 - val_mse: 0.0229 - val_mae: 0.1198\n",
            "Epoch 151/200\n",
            "250/250 [==============================] - 1s 3ms/step - loss: 0.0225 - mse: 0.0225 - mae: 0.1192 - val_loss: 0.0227 - val_mse: 0.0227 - val_mae: 0.1188\n",
            "Epoch 152/200\n",
            "250/250 [==============================] - 1s 3ms/step - loss: 0.0225 - mse: 0.0225 - mae: 0.1193 - val_loss: 0.0232 - val_mse: 0.0232 - val_mae: 0.1199\n",
            "Epoch 153/200\n",
            "250/250 [==============================] - 1s 3ms/step - loss: 0.0224 - mse: 0.0224 - mae: 0.1192 - val_loss: 0.0230 - val_mse: 0.0230 - val_mae: 0.1196\n",
            "Epoch 154/200\n",
            "250/250 [==============================] - 1s 3ms/step - loss: 0.0225 - mse: 0.0225 - mae: 0.1194 - val_loss: 0.0230 - val_mse: 0.0230 - val_mae: 0.1213\n",
            "Epoch 155/200\n",
            "250/250 [==============================] - 1s 3ms/step - loss: 0.0224 - mse: 0.0224 - mae: 0.1192 - val_loss: 0.0228 - val_mse: 0.0228 - val_mae: 0.1190\n",
            "Epoch 156/200\n",
            "250/250 [==============================] - 1s 3ms/step - loss: 0.0225 - mse: 0.0225 - mae: 0.1191 - val_loss: 0.0226 - val_mse: 0.0226 - val_mae: 0.1188\n",
            "Epoch 157/200\n",
            "250/250 [==============================] - 1s 3ms/step - loss: 0.0224 - mse: 0.0224 - mae: 0.1190 - val_loss: 0.0234 - val_mse: 0.0234 - val_mae: 0.1202\n",
            "Epoch 158/200\n",
            "250/250 [==============================] - 1s 3ms/step - loss: 0.0226 - mse: 0.0226 - mae: 0.1197 - val_loss: 0.0231 - val_mse: 0.0231 - val_mae: 0.1199\n",
            "Epoch 159/200\n",
            "250/250 [==============================] - 1s 3ms/step - loss: 0.0225 - mse: 0.0225 - mae: 0.1192 - val_loss: 0.0235 - val_mse: 0.0235 - val_mae: 0.1207\n",
            "Epoch 160/200\n",
            "250/250 [==============================] - 1s 3ms/step - loss: 0.0224 - mse: 0.0224 - mae: 0.1189 - val_loss: 0.0227 - val_mse: 0.0227 - val_mae: 0.1195\n",
            "Epoch 161/200\n",
            "250/250 [==============================] - 1s 3ms/step - loss: 0.0224 - mse: 0.0224 - mae: 0.1193 - val_loss: 0.0228 - val_mse: 0.0228 - val_mae: 0.1193\n",
            "Epoch 162/200\n",
            "250/250 [==============================] - 1s 3ms/step - loss: 0.0224 - mse: 0.0224 - mae: 0.1192 - val_loss: 0.0228 - val_mse: 0.0228 - val_mae: 0.1201\n",
            "Epoch 163/200\n",
            "250/250 [==============================] - 1s 5ms/step - loss: 0.0224 - mse: 0.0224 - mae: 0.1191 - val_loss: 0.0228 - val_mse: 0.0228 - val_mae: 0.1198\n",
            "Epoch 164/200\n",
            "250/250 [==============================] - 1s 5ms/step - loss: 0.0225 - mse: 0.0225 - mae: 0.1192 - val_loss: 0.0227 - val_mse: 0.0227 - val_mae: 0.1191\n",
            "Epoch 165/200\n",
            "250/250 [==============================] - 1s 5ms/step - loss: 0.0224 - mse: 0.0224 - mae: 0.1190 - val_loss: 0.0229 - val_mse: 0.0229 - val_mae: 0.1196\n",
            "Epoch 166/200\n",
            "250/250 [==============================] - 1s 5ms/step - loss: 0.0224 - mse: 0.0224 - mae: 0.1190 - val_loss: 0.0227 - val_mse: 0.0227 - val_mae: 0.1190\n",
            "Epoch 167/200\n",
            "250/250 [==============================] - 1s 3ms/step - loss: 0.0224 - mse: 0.0224 - mae: 0.1190 - val_loss: 0.0227 - val_mse: 0.0227 - val_mae: 0.1195\n",
            "Epoch 168/200\n",
            "250/250 [==============================] - 1s 3ms/step - loss: 0.0224 - mse: 0.0224 - mae: 0.1190 - val_loss: 0.0229 - val_mse: 0.0229 - val_mae: 0.1206\n",
            "Epoch 169/200\n",
            "250/250 [==============================] - 1s 3ms/step - loss: 0.0224 - mse: 0.0224 - mae: 0.1191 - val_loss: 0.0231 - val_mse: 0.0231 - val_mae: 0.1200\n",
            "Epoch 170/200\n",
            "250/250 [==============================] - 1s 3ms/step - loss: 0.0224 - mse: 0.0224 - mae: 0.1190 - val_loss: 0.0229 - val_mse: 0.0229 - val_mae: 0.1193\n",
            "Epoch 171/200\n",
            "250/250 [==============================] - 1s 3ms/step - loss: 0.0224 - mse: 0.0224 - mae: 0.1189 - val_loss: 0.0228 - val_mse: 0.0228 - val_mae: 0.1192\n",
            "Epoch 172/200\n",
            "250/250 [==============================] - 1s 3ms/step - loss: 0.0224 - mse: 0.0224 - mae: 0.1187 - val_loss: 0.0228 - val_mse: 0.0228 - val_mae: 0.1187\n",
            "Epoch 173/200\n",
            "250/250 [==============================] - 1s 3ms/step - loss: 0.0224 - mse: 0.0224 - mae: 0.1191 - val_loss: 0.0238 - val_mse: 0.0238 - val_mae: 0.1222\n",
            "Epoch 174/200\n",
            "250/250 [==============================] - 1s 3ms/step - loss: 0.0224 - mse: 0.0224 - mae: 0.1191 - val_loss: 0.0227 - val_mse: 0.0227 - val_mae: 0.1192\n",
            "Epoch 175/200\n",
            "250/250 [==============================] - 1s 3ms/step - loss: 0.0224 - mse: 0.0224 - mae: 0.1192 - val_loss: 0.0227 - val_mse: 0.0227 - val_mae: 0.1191\n",
            "Epoch 176/200\n",
            "250/250 [==============================] - 1s 3ms/step - loss: 0.0225 - mse: 0.0225 - mae: 0.1193 - val_loss: 0.0230 - val_mse: 0.0230 - val_mae: 0.1214\n",
            "Epoch 177/200\n",
            "250/250 [==============================] - 1s 3ms/step - loss: 0.0224 - mse: 0.0224 - mae: 0.1191 - val_loss: 0.0233 - val_mse: 0.0233 - val_mae: 0.1204\n",
            "Epoch 178/200\n",
            "250/250 [==============================] - 1s 3ms/step - loss: 0.0224 - mse: 0.0224 - mae: 0.1192 - val_loss: 0.0232 - val_mse: 0.0232 - val_mae: 0.1199\n",
            "Epoch 179/200\n",
            "250/250 [==============================] - 1s 4ms/step - loss: 0.0224 - mse: 0.0224 - mae: 0.1191 - val_loss: 0.0228 - val_mse: 0.0228 - val_mae: 0.1201\n",
            "Epoch 180/200\n",
            "250/250 [==============================] - 1s 5ms/step - loss: 0.0224 - mse: 0.0224 - mae: 0.1190 - val_loss: 0.0230 - val_mse: 0.0230 - val_mae: 0.1212\n",
            "Epoch 181/200\n",
            "250/250 [==============================] - 1s 5ms/step - loss: 0.0224 - mse: 0.0224 - mae: 0.1189 - val_loss: 0.0232 - val_mse: 0.0232 - val_mae: 0.1199\n",
            "Epoch 182/200\n",
            "250/250 [==============================] - 2s 6ms/step - loss: 0.0224 - mse: 0.0224 - mae: 0.1192 - val_loss: 0.0228 - val_mse: 0.0228 - val_mae: 0.1191\n",
            "Epoch 183/200\n",
            "250/250 [==============================] - 1s 3ms/step - loss: 0.0225 - mse: 0.0225 - mae: 0.1194 - val_loss: 0.0226 - val_mse: 0.0226 - val_mae: 0.1190\n",
            "Epoch 184/200\n",
            "250/250 [==============================] - 1s 3ms/step - loss: 0.0223 - mse: 0.0223 - mae: 0.1187 - val_loss: 0.0228 - val_mse: 0.0228 - val_mae: 0.1198\n",
            "Epoch 185/200\n",
            "250/250 [==============================] - 1s 3ms/step - loss: 0.0224 - mse: 0.0224 - mae: 0.1190 - val_loss: 0.0226 - val_mse: 0.0226 - val_mae: 0.1189\n",
            "Epoch 186/200\n",
            "250/250 [==============================] - 1s 3ms/step - loss: 0.0224 - mse: 0.0224 - mae: 0.1193 - val_loss: 0.0230 - val_mse: 0.0230 - val_mae: 0.1195\n",
            "Epoch 187/200\n",
            "250/250 [==============================] - 1s 3ms/step - loss: 0.0223 - mse: 0.0223 - mae: 0.1187 - val_loss: 0.0228 - val_mse: 0.0228 - val_mae: 0.1193\n",
            "Epoch 188/200\n",
            "250/250 [==============================] - 1s 3ms/step - loss: 0.0224 - mse: 0.0224 - mae: 0.1190 - val_loss: 0.0229 - val_mse: 0.0229 - val_mae: 0.1200\n",
            "Epoch 189/200\n",
            "250/250 [==============================] - 1s 3ms/step - loss: 0.0223 - mse: 0.0223 - mae: 0.1189 - val_loss: 0.0227 - val_mse: 0.0227 - val_mae: 0.1191\n",
            "Epoch 190/200\n",
            "250/250 [==============================] - 1s 3ms/step - loss: 0.0223 - mse: 0.0223 - mae: 0.1190 - val_loss: 0.0227 - val_mse: 0.0227 - val_mae: 0.1193\n",
            "Epoch 191/200\n",
            "250/250 [==============================] - 1s 3ms/step - loss: 0.0223 - mse: 0.0223 - mae: 0.1188 - val_loss: 0.0229 - val_mse: 0.0229 - val_mae: 0.1197\n",
            "Epoch 192/200\n",
            "250/250 [==============================] - 1s 3ms/step - loss: 0.0223 - mse: 0.0223 - mae: 0.1190 - val_loss: 0.0244 - val_mse: 0.0244 - val_mae: 0.1233\n",
            "Epoch 193/200\n",
            "250/250 [==============================] - 1s 3ms/step - loss: 0.0224 - mse: 0.0224 - mae: 0.1188 - val_loss: 0.0229 - val_mse: 0.0229 - val_mae: 0.1195\n",
            "Epoch 194/200\n",
            "250/250 [==============================] - 1s 3ms/step - loss: 0.0224 - mse: 0.0224 - mae: 0.1190 - val_loss: 0.0234 - val_mse: 0.0234 - val_mae: 0.1208\n",
            "Epoch 195/200\n",
            "250/250 [==============================] - 1s 4ms/step - loss: 0.0224 - mse: 0.0224 - mae: 0.1190 - val_loss: 0.0227 - val_mse: 0.0227 - val_mae: 0.1188\n",
            "Epoch 196/200\n",
            "250/250 [==============================] - 1s 5ms/step - loss: 0.0223 - mse: 0.0223 - mae: 0.1189 - val_loss: 0.0227 - val_mse: 0.0227 - val_mae: 0.1191\n",
            "Epoch 197/200\n",
            "250/250 [==============================] - 1s 4ms/step - loss: 0.0223 - mse: 0.0223 - mae: 0.1188 - val_loss: 0.0232 - val_mse: 0.0232 - val_mae: 0.1201\n",
            "Epoch 198/200\n",
            "250/250 [==============================] - 1s 5ms/step - loss: 0.0223 - mse: 0.0223 - mae: 0.1188 - val_loss: 0.0231 - val_mse: 0.0231 - val_mae: 0.1196\n",
            "Epoch 199/200\n",
            "250/250 [==============================] - 1s 3ms/step - loss: 0.0224 - mse: 0.0224 - mae: 0.1189 - val_loss: 0.0238 - val_mse: 0.0238 - val_mae: 0.1217\n",
            "Epoch 200/200\n",
            "250/250 [==============================] - 1s 3ms/step - loss: 0.0224 - mse: 0.0224 - mae: 0.1191 - val_loss: 0.0226 - val_mse: 0.0226 - val_mae: 0.1191\n"
          ]
        }
      ]
    },
    {
      "cell_type": "code",
      "source": [
        "plt.plot(model.history.history['loss'], label='loss')\n",
        "plt.plot(model.history.history['val_loss'], label='val_loss')\n",
        "plt.xlabel('# epochs')\n",
        "plt.ylabel('loss')\n",
        "plt.show()"
      ],
      "metadata": {
        "colab": {
          "base_uri": "https://localhost:8080/",
          "height": 449
        },
        "id": "9y7PCtyXQGNG",
        "outputId": "7ff943e6-ff07-424a-d0fd-c6302f41eddb"
      },
      "execution_count": null,
      "outputs": [
        {
          "output_type": "display_data",
          "data": {
            "text/plain": [
              "<Figure size 640x480 with 1 Axes>"
            ],
            "image/png": "[encoded data removed]"
          },
          "metadata": {}
        }
      ]
    },
    {
      "cell_type": "code",
      "source": [
        "from sklearn.metrics import r2_score\n",
        "predicted_result=model.predict(test_data)\n",
        "\n",
        "r2=r2_score(test_target, predicted_result)\n",
        "print('r2 score:', r2)"
      ],
      "metadata": {
        "colab": {
          "base_uri": "https://localhost:8080/"
        },
        "id": "X0HcuQ5wQ2P-",
        "outputId": "d38deb9d-cb28-497c-f4e5-8aaeef3a8fb9"
      },
      "execution_count": null,
      "outputs": [
        {
          "output_type": "stream",
          "name": "stdout",
          "text": [
            "63/63 [==============================] - 0s 1ms/step\n",
            "r2 score: 0.3531916087213386\n"
          ]
        }
      ]
    },
    {
      "cell_type": "code",
      "source": [
        "print('actual:', test_target[:10].T)\n",
        "print('predicted:',predicted_result[:10].T)"
      ],
      "metadata": {
        "colab": {
          "base_uri": "https://localhost:8080/"
        },
        "id": "9wLEME5FdYBh",
        "outputId": "c2bb6316-bfd9-46f9-f052-06607c719e5a"
      },
      "execution_count": null,
      "outputs": [
        {
          "output_type": "stream",
          "name": "stdout",
          "text": [
            "actual: [[0.54545455 0.56818182 0.77272727 0.68181818 0.52272727 0.25\n",
            "  0.29545455 0.34090909 0.65909091 0.18181818]]\n",
            "predicted: [[0.53497833 0.2520682  0.5823086  0.3408712  0.51991135 0.316455\n",
            "  0.24889696 0.35039872 0.34828618 0.39018488]]\n"
          ]
        }
      ]
    },
    {
      "cell_type": "code",
      "source": [
        "print('actual inverse scaled:',scaler_target.inverse_transform(test_target[:10]).T)\n",
        "print('predicted inverse scaled:',scaler_target.inverse_transform(predicted_result[:10]).T)"
      ],
      "metadata": {
        "colab": {
          "base_uri": "https://localhost:8080/"
        },
        "id": "9im6pZPgdtPG",
        "outputId": "bb446def-8adb-4338-e20b-5a93cda9fc08"
      },
      "execution_count": null,
      "outputs": [
        {
          "output_type": "stream",
          "name": "stdout",
          "text": [
            "actual inverse scaled: [[7.3 7.4 8.3 7.9 7.2 6.  6.2 6.4 7.8 5.7]]\n",
            "predicted inverse scaled: [[7.2539043 6.0091    7.4621577 6.399833  7.1876097 6.2924023 5.9951468\n",
            "  6.4417543 6.432459  6.6168137]]\n"
          ]
        }
      ]
    },
    {
      "cell_type": "code",
      "source": [
        "my_test_data=[2024,76,3000]\n",
        "my_test_data=scaler_data.transform([my_test_data])\n",
        "result=model.predict(my_test_data)\n",
        "predicted=scaler_target.inverse_transform(result)\n",
        "actual=6.2\n",
        "print('Actual Result:',actual)\n",
        "print('Predicted Result:',predicted)"
      ],
      "metadata": {
        "colab": {
          "base_uri": "https://localhost:8080/"
        },
        "id": "YvPNBLEDeLzn",
        "outputId": "e1d8c22a-02b5-49db-dbae-170f1caec118"
      },
      "execution_count": null,
      "outputs": [
        {
          "output_type": "stream",
          "name": "stdout",
          "text": [
            "1/1 [==============================] - 0s 37ms/step\n",
            "Actual Result: 6.2\n",
            "Predicted Result: [[6.5523057]]\n"
          ]
        }
      ]
    },
    {
      "cell_type": "code",
      "source": [
        "model.save('/content/drive/MyDrive/Colab Notebooks/DL_Course/movie_rating.h5')"
      ],
      "metadata": {
        "colab": {
          "base_uri": "https://localhost:8080/"
        },
        "id": "tkDDn5KMf96P",
        "outputId": "bd25ae7a-7048-4ba9-b344-b35e7d3d95f3"
      },
      "execution_count": null,
      "outputs": [
        {
          "output_type": "stream",
          "name": "stderr",
          "text": [
            "/usr/local/lib/python3.10/dist-packages/keras/src/engine/training.py:3103: UserWarning: You are saving your model as an HDF5 file via `model.save()`. This file format is considered legacy. We recommend using instead the native Keras format, e.g. `model.save('my_model.keras')`.\n",
            "  saving_api.save_model(\n"
          ]
        }
      ]
    },
    {
      "cell_type": "markdown",
      "source": [
        "Save Model and scaler"
      ],
      "metadata": {
        "id": "N-tlS4a5s-zR"
      }
    },
    {
      "cell_type": "code",
      "source": [
        "import joblib"
      ],
      "metadata": {
        "id": "VtgTje-JtDa_"
      },
      "execution_count": null,
      "outputs": []
    },
    {
      "cell_type": "code",
      "source": [
        "# Save scaler_data\n",
        "joblib.dump(scaler_data, \"/content/drive/MyDrive/Colab Notebooks/DL_Course/movie/scaler_data.pkl\")\n",
        "\n",
        "# Save scaler_target\n",
        "joblib.dump(scaler_target, \"/content/drive/MyDrive/Colab Notebooks/DL_Course/movie/scaler_target.pkl\")\n",
        "\n",
        "# Save model\n",
        "joblib.dump(model, \"/content/drive/MyDrive/Colab Notebooks/DL_Course/movie/model.pkl\")"
      ],
      "metadata": {
        "colab": {
          "base_uri": "https://localhost:8080/"
        },
        "id": "CbiokvaPtHDP",
        "outputId": "bf96a298-c95a-4d52-a344-4f07ef715cb2"
      },
      "execution_count": null,
      "outputs": [
        {
          "output_type": "execute_result",
          "data": {
            "text/plain": [
              "['/content/drive/MyDrive/Colab Notebooks/DL_Course/movie/model.pkl']"
            ]
          },
          "metadata": {},
          "execution_count": 63
        }
      ]
    },
    {
      "cell_type": "markdown",
      "source": [
        "fastapi"
      ],
      "metadata": {
        "id": "odR9k-V9tnbC"
      }
    },
    {
      "cell_type": "code",
      "source": [
        "!pip install fastapi"
      ],
      "metadata": {
        "colab": {
          "base_uri": "https://localhost:8080/"
        },
        "id": "-HNBu1avtuE5",
        "outputId": "8b5d7286-6ac7-4b38-9890-71bb1506b853"
      },
      "execution_count": null,
      "outputs": [
        {
          "output_type": "stream",
          "name": "stdout",
          "text": [
            "Collecting fastapi\n",
            "  Downloading fastapi-0.110.1-py3-none-any.whl (91 kB)\n",
            "\u001b[?25l     \u001b[90m━━━━━━━━━━━━━━━━━━━━━━━━━━━━━━━━━━━━━━━━\u001b[0m \u001b[32m0.0/91.9 kB\u001b[0m \u001b[31m?\u001b[0m eta \u001b[36m-:--:--\u001b[0m\r\u001b[2K     \u001b[91m━━━━━━━━━━━━━━━━━━━━━━━━━━━━━━━━━━━\u001b[0m\u001b[91m╸\u001b[0m\u001b[90m━━━━\u001b[0m \u001b[32m81.9/91.9 kB\u001b[0m \u001b[31m2.4 MB/s\u001b[0m eta \u001b[36m0:00:01\u001b[0m\r\u001b[2K     \u001b[90m━━━━━━━━━━━━━━━━━━━━━━━━━━━━━━━━━━━━━━━━\u001b[0m \u001b[32m91.9/91.9 kB\u001b[0m \u001b[31m2.0 MB/s\u001b[0m eta \u001b[36m0:00:00\u001b[0m\n",
            "\u001b[?25hRequirement already satisfied: pydantic!=1.8,!=1.8.1,!=2.0.0,!=2.0.1,!=2.1.0,<3.0.0,>=1.7.4 in /usr/local/lib/python3.10/dist-packages (from fastapi) (2.6.4)\n",
            "Collecting starlette<0.38.0,>=0.37.2 (from fastapi)\n",
            "  Downloading starlette-0.37.2-py3-none-any.whl (71 kB)\n",
            "\u001b[2K     \u001b[90m━━━━━━━━━━━━━━━━━━━━━━━━━━━━━━━━━━━━━━━━\u001b[0m \u001b[32m71.9/71.9 kB\u001b[0m \u001b[31m7.0 MB/s\u001b[0m eta \u001b[36m0:00:00\u001b[0m\n",
            "\u001b[?25hRequirement already satisfied: typing-extensions>=4.8.0 in /usr/local/lib/python3.10/dist-packages (from fastapi) (4.11.0)\n",
            "Requirement already satisfied: annotated-types>=0.4.0 in /usr/local/lib/python3.10/dist-packages (from pydantic!=1.8,!=1.8.1,!=2.0.0,!=2.0.1,!=2.1.0,<3.0.0,>=1.7.4->fastapi) (0.6.0)\n",
            "Requirement already satisfied: pydantic-core==2.16.3 in /usr/local/lib/python3.10/dist-packages (from pydantic!=1.8,!=1.8.1,!=2.0.0,!=2.0.1,!=2.1.0,<3.0.0,>=1.7.4->fastapi) (2.16.3)\n",
            "Requirement already satisfied: anyio<5,>=3.4.0 in /usr/local/lib/python3.10/dist-packages (from starlette<0.38.0,>=0.37.2->fastapi) (3.7.1)\n",
            "Requirement already satisfied: idna>=2.8 in /usr/local/lib/python3.10/dist-packages (from anyio<5,>=3.4.0->starlette<0.38.0,>=0.37.2->fastapi) (3.6)\n",
            "Requirement already satisfied: sniffio>=1.1 in /usr/local/lib/python3.10/dist-packages (from anyio<5,>=3.4.0->starlette<0.38.0,>=0.37.2->fastapi) (1.3.1)\n",
            "Requirement already satisfied: exceptiongroup in /usr/local/lib/python3.10/dist-packages (from anyio<5,>=3.4.0->starlette<0.38.0,>=0.37.2->fastapi) (1.2.0)\n",
            "Installing collected packages: starlette, fastapi\n",
            "Successfully installed fastapi-0.110.1 starlette-0.37.2\n"
          ]
        }
      ]
    },
    {
      "cell_type": "code",
      "source": [
        "from fastapi import FastAPI\n",
        "from pydantic import BaseModel\n",
        "import numpy as np\n",
        "import joblib"
      ],
      "metadata": {
        "id": "0_kqa7GqtRCg"
      },
      "execution_count": null,
      "outputs": []
    },
    {
      "cell_type": "code",
      "source": [
        "# Load your scaler and model\n",
        "scaler_data = joblib.load(\"/content/drive/MyDrive/Colab Notebooks/DL_Course/movie/scaler_data.pkl\")\n",
        "scaler_target = joblib.load(\"/content/drive/MyDrive/Colab Notebooks/DL_Course/movie/scaler_target.pkl\")\n",
        "model = joblib.load(\"/content/drive/MyDrive/Colab Notebooks/DL_Course/movie/model.pkl\")"
      ],
      "metadata": {
        "id": "coG1WGkLtskY"
      },
      "execution_count": null,
      "outputs": []
    },
    {
      "cell_type": "code",
      "source": [
        "# Define FastAPI app\n",
        "app = FastAPI()"
      ],
      "metadata": {
        "id": "8GqVLdRwuFbX"
      },
      "execution_count": null,
      "outputs": []
    },
    {
      "cell_type": "code",
      "source": [
        "# Define request body model\n",
        "class InputData(BaseModel):\n",
        "    year: int\n",
        "    time: float\n",
        "    votes: float\n",
        "\n",
        "# Define endpoint for prediction\n",
        "@app.post(\"/predict/\")\n",
        "async def predict(data: InputData):\n",
        "    # Convert input data to numpy array\n",
        "    input_data = np.array([data.year, data.time, data.votes])\n",
        "    # Scale input data\n",
        "    scaled_data = scaler_data.transform([input_data])\n",
        "    # Predict\n",
        "    result = model.predict(scaled_data)\n",
        "    # Inverse transform predicted result\n",
        "    predicted_result = scaler_target.inverse_transform(result)\n",
        "    # Prepare response\n",
        "    response = {\n",
        "        \"predicted_result\": predicted_result[0]\n",
        "    }\n",
        "    return response"
      ],
      "metadata": {
        "id": "hgvttXV7uKNK"
      },
      "execution_count": null,
      "outputs": []
    },
    {
      "cell_type": "code",
      "source": [
        "def predict(data: InputData):\n",
        "    # Convert input data to numpy array\n",
        "    input_data = np.array([data.year, data.time, data.votes])\n",
        "    # Scale input data\n",
        "    scaled_data = scaler_data.transform([input_data])\n",
        "    # Predict\n",
        "    result = model.predict(scaled_data)\n",
        "    # Inverse transform predicted result\n",
        "    predicted_result = scaler_target.inverse_transform(result)\n",
        "    # Prepare response\n",
        "    response = {\n",
        "        \"predicted_result\": predicted_result[0][0]\n",
        "    }\n",
        "    return response"
      ],
      "metadata": {
        "id": "wBR-DNAHvD5V"
      },
      "execution_count": null,
      "outputs": []
    },
    {
      "cell_type": "code",
      "source": [
        "# Example input data\n",
        "input_data = InputData(year=2024, time=76.0, votes=3000)\n",
        "\n",
        "# Call the predict function\n",
        "prediction_result = predict(input_data)\n",
        "print(prediction_result)"
      ],
      "metadata": {
        "colab": {
          "base_uri": "https://localhost:8080/"
        },
        "id": "_wL8ATBSvRuo",
        "outputId": "8fc69759-c29c-42c5-df7f-e8e708a5d14c"
      },
      "execution_count": null,
      "outputs": [
        {
          "output_type": "stream",
          "name": "stdout",
          "text": [
            "1/1 [==============================] - 0s 38ms/step\n",
            "{'predicted_result': 6.5523057}\n"
          ]
        }
      ]
    },
    {
      "cell_type": "code",
      "source": [
        "import tensorflow as tf\n",
        "print(joblib.__version__)"
      ],
      "metadata": {
        "colab": {
          "base_uri": "https://localhost:8080/"
        },
        "id": "_08xsb0cveQY",
        "outputId": "6973610b-70bb-4526-c494-fb319124193a"
      },
      "execution_count": null,
      "outputs": [
        {
          "output_type": "stream",
          "name": "stdout",
          "text": [
            "1.4.0\n"
          ]
        }
      ]
    },
    {
      "cell_type": "code",
      "source": [],
      "metadata": {
        "id": "P3MocwrVAZuy"
      },
      "execution_count": null,
      "outputs": []
    }
  ]
}