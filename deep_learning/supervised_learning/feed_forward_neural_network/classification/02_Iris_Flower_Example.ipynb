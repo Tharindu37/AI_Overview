{
  "nbformat": 4,
  "nbformat_minor": 0,
  "metadata": {
    "colab": {
      "provenance": []
    },
    "kernelspec": {
      "name": "python3",
      "display_name": "Python 3"
    },
    "language_info": {
      "name": "python"
    }
  },
  "cells": [
    {
      "cell_type": "code",
      "execution_count": null,
      "metadata": {
        "colab": {
          "base_uri": "https://localhost:8080/"
        },
        "id": "JJ-vMQ9M4xla",
        "outputId": "00717ed8-ae9b-409a-8460-00e106cc4e80"
      },
      "outputs": [
        {
          "output_type": "stream",
          "name": "stdout",
          "text": [
            "Requirement already satisfied: tensorflow in /usr/local/lib/python3.10/dist-packages (2.15.0)\n",
            "Requirement already satisfied: keras in /usr/local/lib/python3.10/dist-packages (2.15.0)\n",
            "Requirement already satisfied: opencv-python in /usr/local/lib/python3.10/dist-packages (4.8.0.76)\n",
            "Requirement already satisfied: absl-py>=1.0.0 in /usr/local/lib/python3.10/dist-packages (from tensorflow) (1.4.0)\n",
            "Requirement already satisfied: astunparse>=1.6.0 in /usr/local/lib/python3.10/dist-packages (from tensorflow) (1.6.3)\n",
            "Requirement already satisfied: flatbuffers>=23.5.26 in /usr/local/lib/python3.10/dist-packages (from tensorflow) (24.3.25)\n",
            "Requirement already satisfied: gast!=0.5.0,!=0.5.1,!=0.5.2,>=0.2.1 in /usr/local/lib/python3.10/dist-packages (from tensorflow) (0.5.4)\n",
            "Requirement already satisfied: google-pasta>=0.1.1 in /usr/local/lib/python3.10/dist-packages (from tensorflow) (0.2.0)\n",
            "Requirement already satisfied: h5py>=2.9.0 in /usr/local/lib/python3.10/dist-packages (from tensorflow) (3.9.0)\n",
            "Requirement already satisfied: libclang>=13.0.0 in /usr/local/lib/python3.10/dist-packages (from tensorflow) (18.1.1)\n",
            "Requirement already satisfied: ml-dtypes~=0.2.0 in /usr/local/lib/python3.10/dist-packages (from tensorflow) (0.2.0)\n",
            "Requirement already satisfied: numpy<2.0.0,>=1.23.5 in /usr/local/lib/python3.10/dist-packages (from tensorflow) (1.25.2)\n",
            "Requirement already satisfied: opt-einsum>=2.3.2 in /usr/local/lib/python3.10/dist-packages (from tensorflow) (3.3.0)\n",
            "Requirement already satisfied: packaging in /usr/local/lib/python3.10/dist-packages (from tensorflow) (24.0)\n",
            "Requirement already satisfied: protobuf!=4.21.0,!=4.21.1,!=4.21.2,!=4.21.3,!=4.21.4,!=4.21.5,<5.0.0dev,>=3.20.3 in /usr/local/lib/python3.10/dist-packages (from tensorflow) (3.20.3)\n",
            "Requirement already satisfied: setuptools in /usr/local/lib/python3.10/dist-packages (from tensorflow) (67.7.2)\n",
            "Requirement already satisfied: six>=1.12.0 in /usr/local/lib/python3.10/dist-packages (from tensorflow) (1.16.0)\n",
            "Requirement already satisfied: termcolor>=1.1.0 in /usr/local/lib/python3.10/dist-packages (from tensorflow) (2.4.0)\n",
            "Requirement already satisfied: typing-extensions>=3.6.6 in /usr/local/lib/python3.10/dist-packages (from tensorflow) (4.11.0)\n",
            "Requirement already satisfied: wrapt<1.15,>=1.11.0 in /usr/local/lib/python3.10/dist-packages (from tensorflow) (1.14.1)\n",
            "Requirement already satisfied: tensorflow-io-gcs-filesystem>=0.23.1 in /usr/local/lib/python3.10/dist-packages (from tensorflow) (0.36.0)\n",
            "Requirement already satisfied: grpcio<2.0,>=1.24.3 in /usr/local/lib/python3.10/dist-packages (from tensorflow) (1.62.1)\n",
            "Requirement already satisfied: tensorboard<2.16,>=2.15 in /usr/local/lib/python3.10/dist-packages (from tensorflow) (2.15.2)\n",
            "Requirement already satisfied: tensorflow-estimator<2.16,>=2.15.0 in /usr/local/lib/python3.10/dist-packages (from tensorflow) (2.15.0)\n",
            "Requirement already satisfied: wheel<1.0,>=0.23.0 in /usr/local/lib/python3.10/dist-packages (from astunparse>=1.6.0->tensorflow) (0.43.0)\n",
            "Requirement already satisfied: google-auth<3,>=1.6.3 in /usr/local/lib/python3.10/dist-packages (from tensorboard<2.16,>=2.15->tensorflow) (2.27.0)\n",
            "Requirement already satisfied: google-auth-oauthlib<2,>=0.5 in /usr/local/lib/python3.10/dist-packages (from tensorboard<2.16,>=2.15->tensorflow) (1.2.0)\n",
            "Requirement already satisfied: markdown>=2.6.8 in /usr/local/lib/python3.10/dist-packages (from tensorboard<2.16,>=2.15->tensorflow) (3.6)\n",
            "Requirement already satisfied: requests<3,>=2.21.0 in /usr/local/lib/python3.10/dist-packages (from tensorboard<2.16,>=2.15->tensorflow) (2.31.0)\n",
            "Requirement already satisfied: tensorboard-data-server<0.8.0,>=0.7.0 in /usr/local/lib/python3.10/dist-packages (from tensorboard<2.16,>=2.15->tensorflow) (0.7.2)\n",
            "Requirement already satisfied: werkzeug>=1.0.1 in /usr/local/lib/python3.10/dist-packages (from tensorboard<2.16,>=2.15->tensorflow) (3.0.2)\n",
            "Requirement already satisfied: cachetools<6.0,>=2.0.0 in /usr/local/lib/python3.10/dist-packages (from google-auth<3,>=1.6.3->tensorboard<2.16,>=2.15->tensorflow) (5.3.3)\n",
            "Requirement already satisfied: pyasn1-modules>=0.2.1 in /usr/local/lib/python3.10/dist-packages (from google-auth<3,>=1.6.3->tensorboard<2.16,>=2.15->tensorflow) (0.4.0)\n",
            "Requirement already satisfied: rsa<5,>=3.1.4 in /usr/local/lib/python3.10/dist-packages (from google-auth<3,>=1.6.3->tensorboard<2.16,>=2.15->tensorflow) (4.9)\n",
            "Requirement already satisfied: requests-oauthlib>=0.7.0 in /usr/local/lib/python3.10/dist-packages (from google-auth-oauthlib<2,>=0.5->tensorboard<2.16,>=2.15->tensorflow) (1.3.1)\n",
            "Requirement already satisfied: charset-normalizer<4,>=2 in /usr/local/lib/python3.10/dist-packages (from requests<3,>=2.21.0->tensorboard<2.16,>=2.15->tensorflow) (3.3.2)\n",
            "Requirement already satisfied: idna<4,>=2.5 in /usr/local/lib/python3.10/dist-packages (from requests<3,>=2.21.0->tensorboard<2.16,>=2.15->tensorflow) (3.7)\n",
            "Requirement already satisfied: urllib3<3,>=1.21.1 in /usr/local/lib/python3.10/dist-packages (from requests<3,>=2.21.0->tensorboard<2.16,>=2.15->tensorflow) (2.0.7)\n",
            "Requirement already satisfied: certifi>=2017.4.17 in /usr/local/lib/python3.10/dist-packages (from requests<3,>=2.21.0->tensorboard<2.16,>=2.15->tensorflow) (2024.2.2)\n",
            "Requirement already satisfied: MarkupSafe>=2.1.1 in /usr/local/lib/python3.10/dist-packages (from werkzeug>=1.0.1->tensorboard<2.16,>=2.15->tensorflow) (2.1.5)\n",
            "Requirement already satisfied: pyasn1<0.7.0,>=0.4.6 in /usr/local/lib/python3.10/dist-packages (from pyasn1-modules>=0.2.1->google-auth<3,>=1.6.3->tensorboard<2.16,>=2.15->tensorflow) (0.6.0)\n",
            "Requirement already satisfied: oauthlib>=3.0.0 in /usr/local/lib/python3.10/dist-packages (from requests-oauthlib>=0.7.0->google-auth-oauthlib<2,>=0.5->tensorboard<2.16,>=2.15->tensorflow) (3.2.2)\n"
          ]
        }
      ],
      "source": [
        "!pip install tensorflow keras opencv-python"
      ]
    },
    {
      "cell_type": "code",
      "source": [
        "import keras\n",
        "import tensorflow as tf"
      ],
      "metadata": {
        "id": "7kZzv3Qt5IkH"
      },
      "execution_count": null,
      "outputs": []
    },
    {
      "cell_type": "code",
      "source": [
        "import pandas as pd\n",
        "dataset=pd.read_csv(\"/content/drive/MyDrive/Colab Notebooks/DL_Course/Iris.csv\").values\n",
        "# dataset=pd.read_csv(\"/content/drive/MyDrive/Colab Notebooks/DL_Course/Iris.csv\", header=None).values\n",
        "data=dataset[:,1:5]\n",
        "target=dataset[:,5]"
      ],
      "metadata": {
        "id": "TyXEJr395Ojt"
      },
      "execution_count": null,
      "outputs": []
    },
    {
      "cell_type": "code",
      "source": [
        "print(dataset[0:5,:])\n",
        "print(data[0:5,:])\n",
        "print(target[0:5])"
      ],
      "metadata": {
        "colab": {
          "base_uri": "https://localhost:8080/"
        },
        "id": "xVUk_BwX9P6X",
        "outputId": "f21c9df7-5436-4364-c75c-401f3cb4dc44"
      },
      "execution_count": null,
      "outputs": [
        {
          "output_type": "stream",
          "name": "stdout",
          "text": [
            "[[1 5.1 3.5 1.4 0.2 'Iris-setosa']\n",
            " [2 4.9 3.0 1.4 0.2 'Iris-setosa']\n",
            " [3 4.7 3.2 1.3 0.2 'Iris-setosa']\n",
            " [4 4.6 3.1 1.5 0.2 'Iris-setosa']\n",
            " [5 5.0 3.6 1.4 0.2 'Iris-setosa']]\n",
            "[[5.1 3.5 1.4 0.2]\n",
            " [4.9 3.0 1.4 0.2]\n",
            " [4.7 3.2 1.3 0.2]\n",
            " [4.6 3.1 1.5 0.2]\n",
            " [5.0 3.6 1.4 0.2]]\n",
            "['Iris-setosa' 'Iris-setosa' 'Iris-setosa' 'Iris-setosa' 'Iris-setosa']\n"
          ]
        }
      ]
    },
    {
      "cell_type": "code",
      "source": [
        "# Define a mapping dictionary\n",
        "class_mapping = {'Iris-setosa': 0, 'Iris-versicolor': 1, 'Iris-virginica': 2}\n",
        "# Convert class labels to numerical values\n",
        "target = [class_mapping[label] for label in target]\n",
        "print(target[0:5])"
      ],
      "metadata": {
        "colab": {
          "base_uri": "https://localhost:8080/"
        },
        "id": "tpodv2cD9t32",
        "outputId": "91b5ab6c-59de-447d-9348-964ade97eb60"
      },
      "execution_count": null,
      "outputs": [
        {
          "output_type": "stream",
          "name": "stdout",
          "text": [
            "[0, 0, 0, 0, 0]\n"
          ]
        }
      ]
    },
    {
      "cell_type": "code",
      "source": [
        "from keras.utils import to_categorical\n",
        "new_target=to_categorical(target)\n",
        "print(new_target[0:5])"
      ],
      "metadata": {
        "colab": {
          "base_uri": "https://localhost:8080/"
        },
        "id": "X2KMXzxdVDN5",
        "outputId": "31fe98c9-b95a-4b65-f1b7-fbde0c7733df"
      },
      "execution_count": null,
      "outputs": [
        {
          "output_type": "stream",
          "name": "stdout",
          "text": [
            "[[1. 0. 0.]\n",
            " [1. 0. 0.]\n",
            " [1. 0. 0.]\n",
            " [1. 0. 0.]\n",
            " [1. 0. 0.]]\n"
          ]
        }
      ]
    },
    {
      "cell_type": "code",
      "source": [
        "from keras.models import Sequential\n",
        "from keras.layers import Dense # Feed forwrod / fully connected layers\n",
        "\n",
        "model=Sequential() #empty NN Object\n",
        "model.add(Dense(32,input_dim=4, activation='relu')) # 1st NDN Layer\n",
        "model.add(Dense(64,activation='relu')) # 2nd HDN Layer\n",
        "model.add(Dense(16,activation='relu')) # 3rd HDN Layer\n",
        "model.add(Dense(3,activation='softmax')) #output\n",
        "\n",
        "model.compile(loss='categorical_crossentropy', optimizer='adam', metrics=['accuracy'])\n",
        "model.summary()"
      ],
      "metadata": {
        "colab": {
          "base_uri": "https://localhost:8080/"
        },
        "id": "okdidXIDCJWe",
        "outputId": "49661f74-6f28-4a71-e07b-66d515d8ea66"
      },
      "execution_count": null,
      "outputs": [
        {
          "output_type": "stream",
          "name": "stdout",
          "text": [
            "Model: \"sequential_5\"\n",
            "_________________________________________________________________\n",
            " Layer (type)                Output Shape              Param #   \n",
            "=================================================================\n",
            " dense_20 (Dense)            (None, 32)                160       \n",
            "                                                                 \n",
            " dense_21 (Dense)            (None, 64)                2112      \n",
            "                                                                 \n",
            " dense_22 (Dense)            (None, 16)                1040      \n",
            "                                                                 \n",
            " dense_23 (Dense)            (None, 3)                 51        \n",
            "                                                                 \n",
            "=================================================================\n",
            "Total params: 3363 (13.14 KB)\n",
            "Trainable params: 3363 (13.14 KB)\n",
            "Non-trainable params: 0 (0.00 Byte)\n",
            "_________________________________________________________________\n"
          ]
        }
      ]
    },
    {
      "cell_type": "code",
      "source": [
        "from sklearn.model_selection import train_test_split\n",
        "train_data, test_data, train_target, test_target=train_test_split(data,new_target,test_size=0.1)"
      ],
      "metadata": {
        "id": "ndOKA6wuUGeI"
      },
      "execution_count": null,
      "outputs": []
    },
    {
      "cell_type": "code",
      "source": [
        "print(len(data))\n",
        "print(len(train_data))\n",
        "print(len(test_data))\n",
        "\n",
        "print(len(new_target))\n",
        "print(len(train_target))\n",
        "print(len(test_target))"
      ],
      "metadata": {
        "colab": {
          "base_uri": "https://localhost:8080/"
        },
        "id": "IRXs1rHTV0PA",
        "outputId": "951d231c-16d8-4415-bb8c-c8b04394d5d7"
      },
      "execution_count": null,
      "outputs": [
        {
          "output_type": "stream",
          "name": "stdout",
          "text": [
            "150\n",
            "135\n",
            "15\n",
            "150\n",
            "135\n",
            "15\n"
          ]
        }
      ]
    },
    {
      "cell_type": "code",
      "source": [
        "print(type(data))\n",
        "print(type(train_data))\n",
        "print(type(test_data))"
      ],
      "metadata": {
        "colab": {
          "base_uri": "https://localhost:8080/"
        },
        "id": "zXeiFQNXf8US",
        "outputId": "01163348-6f79-40a5-e602-69d14f87942e"
      },
      "execution_count": null,
      "outputs": [
        {
          "output_type": "stream",
          "name": "stdout",
          "text": [
            "<class 'numpy.ndarray'>\n",
            "<class 'numpy.ndarray'>\n",
            "<class 'numpy.ndarray'>\n"
          ]
        }
      ]
    },
    {
      "cell_type": "code",
      "source": [
        "import numpy as np"
      ],
      "metadata": {
        "id": "G9zf_n3YhQOp"
      },
      "execution_count": null,
      "outputs": []
    },
    {
      "cell_type": "code",
      "source": [
        "train_data=tf.convert_to_tensor(train_data)\n",
        "train_target=tf.convert_to_tensor(train_target)\n",
        "test_data=tf.convert_to_tensor(test_data)\n",
        "test_target=tf.convert_to_tensor(test_target)"
      ],
      "metadata": {
        "id": "ZqRkyfHWgKkh"
      },
      "execution_count": null,
      "outputs": []
    },
    {
      "cell_type": "code",
      "source": [
        "print(type(data))\n",
        "print(type(train_data))\n",
        "print(type(test_data))"
      ],
      "metadata": {
        "colab": {
          "base_uri": "https://localhost:8080/"
        },
        "id": "Iq3h6iuvhjKp",
        "outputId": "e54b1c58-966f-48e5-cd98-b2cd64bcff3b"
      },
      "execution_count": null,
      "outputs": [
        {
          "output_type": "stream",
          "name": "stdout",
          "text": [
            "<class 'numpy.ndarray'>\n",
            "<class 'tensorflow.python.framework.ops.EagerTensor'>\n",
            "<class 'tensorflow.python.framework.ops.EagerTensor'>\n"
          ]
        }
      ]
    },
    {
      "cell_type": "code",
      "source": [
        "print(train_data[0:5])"
      ],
      "metadata": {
        "colab": {
          "base_uri": "https://localhost:8080/"
        },
        "id": "CMLAuirdhoGw",
        "outputId": "9fadad2f-41ee-48d4-9cfa-d0a9cd33b04f"
      },
      "execution_count": null,
      "outputs": [
        {
          "output_type": "stream",
          "name": "stdout",
          "text": [
            "tf.Tensor(\n",
            "[[6.4 3.2 5.3 2.3]\n",
            " [5.2 3.5 1.5 0.2]\n",
            " [6.1 3.  4.6 1.4]\n",
            " [4.9 3.1 1.5 0.1]\n",
            " [6.7 3.1 5.6 2.4]], shape=(5, 4), dtype=float32)\n"
          ]
        }
      ]
    },
    {
      "cell_type": "code",
      "source": [
        "# history=model.fit(train_data,train_target,epochs=100, batch_size=4)\n",
        "# history=model.fit(train_data,train_target,epochs=100, batch_size=4,validation_data=(test_data,test_target))\n",
        "history=model.fit(data,new_target,epochs=100, batch_size=4,validation_split=0.2)"
      ],
      "metadata": {
        "colab": {
          "base_uri": "https://localhost:8080/"
        },
        "id": "6poPNFBoV543",
        "outputId": "a22d9f87-8787-4d11-88ff-25e04a4caf69"
      },
      "execution_count": null,
      "outputs": [
        {
          "output_type": "stream",
          "name": "stdout",
          "text": [
            "Epoch 1/100\n",
            "34/34 [==============================] - 0s 8ms/step - loss: 0.7833 - accuracy: 0.6963 - val_loss: 0.7869 - val_accuracy: 0.4000\n",
            "Epoch 2/100\n",
            "34/34 [==============================] - 0s 3ms/step - loss: 0.6090 - accuracy: 0.8074 - val_loss: 0.6311 - val_accuracy: 0.8000\n",
            "Epoch 3/100\n",
            "34/34 [==============================] - 0s 3ms/step - loss: 0.4718 - accuracy: 0.8370 - val_loss: 0.5472 - val_accuracy: 0.8667\n",
            "Epoch 4/100\n",
            "34/34 [==============================] - 0s 3ms/step - loss: 0.3584 - accuracy: 0.9333 - val_loss: 0.3805 - val_accuracy: 0.8667\n",
            "Epoch 5/100\n",
            "34/34 [==============================] - 0s 3ms/step - loss: 0.3210 - accuracy: 0.8815 - val_loss: 0.3308 - val_accuracy: 0.9333\n",
            "Epoch 6/100\n",
            "34/34 [==============================] - 0s 3ms/step - loss: 0.2445 - accuracy: 0.9704 - val_loss: 0.3889 - val_accuracy: 0.8667\n",
            "Epoch 7/100\n",
            "34/34 [==============================] - 0s 3ms/step - loss: 0.2450 - accuracy: 0.8963 - val_loss: 0.2855 - val_accuracy: 0.9333\n",
            "Epoch 8/100\n",
            "34/34 [==============================] - 0s 3ms/step - loss: 0.1764 - accuracy: 0.9704 - val_loss: 0.3444 - val_accuracy: 0.8667\n",
            "Epoch 9/100\n",
            "34/34 [==============================] - 0s 3ms/step - loss: 0.1881 - accuracy: 0.9185 - val_loss: 0.2012 - val_accuracy: 0.9333\n",
            "Epoch 10/100\n",
            "34/34 [==============================] - 0s 3ms/step - loss: 0.1337 - accuracy: 0.9630 - val_loss: 0.2158 - val_accuracy: 0.9333\n",
            "Epoch 11/100\n",
            "34/34 [==============================] - 0s 3ms/step - loss: 0.1264 - accuracy: 0.9630 - val_loss: 0.1977 - val_accuracy: 0.9333\n",
            "Epoch 12/100\n",
            "34/34 [==============================] - 0s 3ms/step - loss: 0.1108 - accuracy: 0.9778 - val_loss: 0.2642 - val_accuracy: 0.9333\n",
            "Epoch 13/100\n",
            "34/34 [==============================] - 0s 3ms/step - loss: 0.1048 - accuracy: 0.9630 - val_loss: 0.2097 - val_accuracy: 0.9333\n",
            "Epoch 14/100\n",
            "34/34 [==============================] - 0s 3ms/step - loss: 0.1008 - accuracy: 0.9630 - val_loss: 0.2984 - val_accuracy: 0.8667\n",
            "Epoch 15/100\n",
            "34/34 [==============================] - 0s 3ms/step - loss: 0.0948 - accuracy: 0.9778 - val_loss: 0.3406 - val_accuracy: 0.8667\n",
            "Epoch 16/100\n",
            "34/34 [==============================] - 0s 2ms/step - loss: 0.0747 - accuracy: 0.9852 - val_loss: 0.1419 - val_accuracy: 0.9333\n",
            "Epoch 17/100\n",
            "34/34 [==============================] - 0s 3ms/step - loss: 0.1450 - accuracy: 0.9407 - val_loss: 0.4894 - val_accuracy: 0.8667\n",
            "Epoch 18/100\n",
            "34/34 [==============================] - 0s 3ms/step - loss: 0.1091 - accuracy: 0.9407 - val_loss: 0.1521 - val_accuracy: 0.9333\n",
            "Epoch 19/100\n",
            "34/34 [==============================] - 0s 3ms/step - loss: 0.0836 - accuracy: 0.9704 - val_loss: 0.1658 - val_accuracy: 0.9333\n",
            "Epoch 20/100\n",
            "34/34 [==============================] - 0s 3ms/step - loss: 0.0613 - accuracy: 0.9852 - val_loss: 0.3668 - val_accuracy: 0.8667\n",
            "Epoch 21/100\n",
            "34/34 [==============================] - 0s 3ms/step - loss: 0.0946 - accuracy: 0.9630 - val_loss: 0.2773 - val_accuracy: 0.9333\n",
            "Epoch 22/100\n",
            "34/34 [==============================] - 0s 3ms/step - loss: 0.0692 - accuracy: 0.9778 - val_loss: 0.1726 - val_accuracy: 0.9333\n",
            "Epoch 23/100\n",
            "34/34 [==============================] - 0s 3ms/step - loss: 0.0711 - accuracy: 0.9778 - val_loss: 0.1587 - val_accuracy: 0.9333\n",
            "Epoch 24/100\n",
            "34/34 [==============================] - 0s 3ms/step - loss: 0.0713 - accuracy: 0.9704 - val_loss: 0.2299 - val_accuracy: 0.9333\n",
            "Epoch 25/100\n",
            "34/34 [==============================] - 0s 3ms/step - loss: 0.0660 - accuracy: 0.9852 - val_loss: 0.2020 - val_accuracy: 0.9333\n",
            "Epoch 26/100\n",
            "34/34 [==============================] - 0s 4ms/step - loss: 0.0576 - accuracy: 0.9926 - val_loss: 0.1670 - val_accuracy: 0.9333\n",
            "Epoch 27/100\n",
            "34/34 [==============================] - 0s 3ms/step - loss: 0.1122 - accuracy: 0.9481 - val_loss: 0.3085 - val_accuracy: 0.9333\n",
            "Epoch 28/100\n",
            "34/34 [==============================] - 0s 3ms/step - loss: 0.0505 - accuracy: 0.9852 - val_loss: 0.1427 - val_accuracy: 0.9333\n",
            "Epoch 29/100\n",
            "34/34 [==============================] - 0s 3ms/step - loss: 0.0530 - accuracy: 0.9778 - val_loss: 0.1992 - val_accuracy: 0.9333\n",
            "Epoch 30/100\n",
            "34/34 [==============================] - 0s 3ms/step - loss: 0.0687 - accuracy: 0.9778 - val_loss: 0.1675 - val_accuracy: 0.9333\n",
            "Epoch 31/100\n",
            "34/34 [==============================] - 0s 3ms/step - loss: 0.1023 - accuracy: 0.9481 - val_loss: 0.2368 - val_accuracy: 0.9333\n",
            "Epoch 32/100\n",
            "34/34 [==============================] - 0s 3ms/step - loss: 0.0623 - accuracy: 0.9852 - val_loss: 0.1981 - val_accuracy: 0.9333\n",
            "Epoch 33/100\n",
            "34/34 [==============================] - 0s 3ms/step - loss: 0.0685 - accuracy: 0.9704 - val_loss: 0.1325 - val_accuracy: 0.9333\n",
            "Epoch 34/100\n",
            "34/34 [==============================] - 0s 3ms/step - loss: 0.0521 - accuracy: 0.9778 - val_loss: 0.2354 - val_accuracy: 0.9333\n",
            "Epoch 35/100\n",
            "34/34 [==============================] - 0s 3ms/step - loss: 0.0534 - accuracy: 0.9778 - val_loss: 0.2351 - val_accuracy: 0.9333\n",
            "Epoch 36/100\n",
            "34/34 [==============================] - 0s 3ms/step - loss: 0.0688 - accuracy: 0.9778 - val_loss: 0.3751 - val_accuracy: 0.8667\n",
            "Epoch 37/100\n",
            "34/34 [==============================] - 0s 3ms/step - loss: 0.0601 - accuracy: 0.9704 - val_loss: 0.2807 - val_accuracy: 0.9333\n",
            "Epoch 38/100\n",
            "34/34 [==============================] - 0s 3ms/step - loss: 0.0584 - accuracy: 0.9704 - val_loss: 0.2866 - val_accuracy: 0.9333\n",
            "Epoch 39/100\n",
            "34/34 [==============================] - 0s 3ms/step - loss: 0.0802 - accuracy: 0.9556 - val_loss: 0.3425 - val_accuracy: 0.9333\n",
            "Epoch 40/100\n",
            "34/34 [==============================] - 0s 3ms/step - loss: 0.0780 - accuracy: 0.9704 - val_loss: 0.1389 - val_accuracy: 0.9333\n",
            "Epoch 41/100\n",
            "34/34 [==============================] - 0s 3ms/step - loss: 0.0413 - accuracy: 0.9852 - val_loss: 0.1727 - val_accuracy: 0.9333\n",
            "Epoch 42/100\n",
            "34/34 [==============================] - 0s 3ms/step - loss: 0.0660 - accuracy: 0.9778 - val_loss: 0.1894 - val_accuracy: 0.9333\n",
            "Epoch 43/100\n",
            "34/34 [==============================] - 0s 3ms/step - loss: 0.0637 - accuracy: 0.9778 - val_loss: 0.1587 - val_accuracy: 0.9333\n",
            "Epoch 44/100\n",
            "34/34 [==============================] - 0s 3ms/step - loss: 0.0741 - accuracy: 0.9704 - val_loss: 0.1933 - val_accuracy: 0.9333\n",
            "Epoch 45/100\n",
            "34/34 [==============================] - 0s 3ms/step - loss: 0.0499 - accuracy: 0.9852 - val_loss: 0.1329 - val_accuracy: 0.9333\n",
            "Epoch 46/100\n",
            "34/34 [==============================] - 0s 3ms/step - loss: 0.0659 - accuracy: 0.9704 - val_loss: 0.2527 - val_accuracy: 0.9333\n",
            "Epoch 47/100\n",
            "34/34 [==============================] - 0s 3ms/step - loss: 0.0703 - accuracy: 0.9630 - val_loss: 0.3793 - val_accuracy: 0.9333\n",
            "Epoch 48/100\n",
            "34/34 [==============================] - 0s 3ms/step - loss: 0.0520 - accuracy: 0.9852 - val_loss: 0.1850 - val_accuracy: 0.9333\n",
            "Epoch 49/100\n",
            "34/34 [==============================] - 0s 3ms/step - loss: 0.0446 - accuracy: 0.9778 - val_loss: 0.2961 - val_accuracy: 0.9333\n",
            "Epoch 50/100\n",
            "34/34 [==============================] - 0s 3ms/step - loss: 0.0382 - accuracy: 0.9926 - val_loss: 0.1937 - val_accuracy: 0.9333\n",
            "Epoch 51/100\n",
            "34/34 [==============================] - 0s 3ms/step - loss: 0.0583 - accuracy: 0.9778 - val_loss: 0.3229 - val_accuracy: 0.9333\n",
            "Epoch 52/100\n",
            "34/34 [==============================] - 0s 3ms/step - loss: 0.0511 - accuracy: 0.9778 - val_loss: 0.1470 - val_accuracy: 0.9333\n",
            "Epoch 53/100\n",
            "34/34 [==============================] - 0s 3ms/step - loss: 0.0577 - accuracy: 0.9778 - val_loss: 0.1983 - val_accuracy: 0.9333\n",
            "Epoch 54/100\n",
            "34/34 [==============================] - 0s 3ms/step - loss: 0.0432 - accuracy: 0.9852 - val_loss: 0.2683 - val_accuracy: 0.9333\n",
            "Epoch 55/100\n",
            "34/34 [==============================] - 0s 3ms/step - loss: 0.0613 - accuracy: 0.9778 - val_loss: 0.1267 - val_accuracy: 0.9333\n",
            "Epoch 56/100\n",
            "34/34 [==============================] - 0s 3ms/step - loss: 0.0557 - accuracy: 0.9778 - val_loss: 0.2400 - val_accuracy: 0.9333\n",
            "Epoch 57/100\n",
            "34/34 [==============================] - 0s 3ms/step - loss: 0.0482 - accuracy: 0.9704 - val_loss: 0.3264 - val_accuracy: 0.9333\n",
            "Epoch 58/100\n",
            "34/34 [==============================] - 0s 3ms/step - loss: 0.0474 - accuracy: 0.9778 - val_loss: 0.2101 - val_accuracy: 0.9333\n",
            "Epoch 59/100\n",
            "34/34 [==============================] - 0s 4ms/step - loss: 0.0636 - accuracy: 0.9778 - val_loss: 0.1540 - val_accuracy: 0.9333\n",
            "Epoch 60/100\n",
            "34/34 [==============================] - 0s 4ms/step - loss: 0.0621 - accuracy: 0.9630 - val_loss: 0.3784 - val_accuracy: 0.9333\n",
            "Epoch 61/100\n",
            "34/34 [==============================] - 0s 4ms/step - loss: 0.0612 - accuracy: 0.9778 - val_loss: 0.3437 - val_accuracy: 0.9333\n",
            "Epoch 62/100\n",
            "34/34 [==============================] - 0s 4ms/step - loss: 0.0542 - accuracy: 0.9704 - val_loss: 0.3098 - val_accuracy: 0.9333\n",
            "Epoch 63/100\n",
            "34/34 [==============================] - 0s 4ms/step - loss: 0.0558 - accuracy: 0.9704 - val_loss: 0.2960 - val_accuracy: 0.9333\n",
            "Epoch 64/100\n",
            "34/34 [==============================] - 0s 4ms/step - loss: 0.0666 - accuracy: 0.9704 - val_loss: 0.1356 - val_accuracy: 0.9333\n",
            "Epoch 65/100\n",
            "34/34 [==============================] - 0s 4ms/step - loss: 0.0648 - accuracy: 0.9556 - val_loss: 0.1482 - val_accuracy: 0.9333\n",
            "Epoch 66/100\n",
            "34/34 [==============================] - 0s 4ms/step - loss: 0.0481 - accuracy: 0.9778 - val_loss: 0.2470 - val_accuracy: 0.9333\n",
            "Epoch 67/100\n",
            "34/34 [==============================] - 0s 4ms/step - loss: 0.0380 - accuracy: 0.9778 - val_loss: 0.2921 - val_accuracy: 0.9333\n",
            "Epoch 68/100\n",
            "34/34 [==============================] - 0s 5ms/step - loss: 0.0672 - accuracy: 0.9630 - val_loss: 0.4317 - val_accuracy: 0.8667\n",
            "Epoch 69/100\n",
            "34/34 [==============================] - 0s 4ms/step - loss: 0.0304 - accuracy: 0.9852 - val_loss: 0.2021 - val_accuracy: 0.9333\n",
            "Epoch 70/100\n",
            "34/34 [==============================] - 0s 4ms/step - loss: 0.0396 - accuracy: 0.9852 - val_loss: 0.3420 - val_accuracy: 0.9333\n",
            "Epoch 71/100\n",
            "34/34 [==============================] - 0s 4ms/step - loss: 0.0599 - accuracy: 0.9704 - val_loss: 0.5558 - val_accuracy: 0.8667\n",
            "Epoch 72/100\n",
            "34/34 [==============================] - 0s 4ms/step - loss: 0.0885 - accuracy: 0.9630 - val_loss: 0.3431 - val_accuracy: 0.9333\n",
            "Epoch 73/100\n",
            "34/34 [==============================] - 0s 4ms/step - loss: 0.0372 - accuracy: 0.9704 - val_loss: 0.1646 - val_accuracy: 0.9333\n",
            "Epoch 74/100\n",
            "34/34 [==============================] - 0s 4ms/step - loss: 0.0664 - accuracy: 0.9704 - val_loss: 0.2152 - val_accuracy: 0.9333\n",
            "Epoch 75/100\n",
            "34/34 [==============================] - 0s 4ms/step - loss: 0.0576 - accuracy: 0.9704 - val_loss: 0.2613 - val_accuracy: 0.9333\n",
            "Epoch 76/100\n",
            "34/34 [==============================] - 0s 4ms/step - loss: 0.0325 - accuracy: 0.9852 - val_loss: 0.2495 - val_accuracy: 0.9333\n",
            "Epoch 77/100\n",
            "34/34 [==============================] - 0s 4ms/step - loss: 0.0426 - accuracy: 0.9852 - val_loss: 0.1306 - val_accuracy: 0.9333\n",
            "Epoch 78/100\n",
            "34/34 [==============================] - 0s 5ms/step - loss: 0.1004 - accuracy: 0.9630 - val_loss: 0.3517 - val_accuracy: 0.9333\n",
            "Epoch 79/100\n",
            "34/34 [==============================] - 0s 5ms/step - loss: 0.0398 - accuracy: 0.9778 - val_loss: 0.2680 - val_accuracy: 0.9333\n",
            "Epoch 80/100\n",
            "34/34 [==============================] - 0s 4ms/step - loss: 0.0718 - accuracy: 0.9704 - val_loss: 0.1369 - val_accuracy: 0.9333\n",
            "Epoch 81/100\n",
            "34/34 [==============================] - 0s 4ms/step - loss: 0.0516 - accuracy: 0.9778 - val_loss: 0.2207 - val_accuracy: 0.9333\n",
            "Epoch 82/100\n",
            "34/34 [==============================] - 0s 4ms/step - loss: 0.0496 - accuracy: 0.9778 - val_loss: 0.1991 - val_accuracy: 0.9333\n",
            "Epoch 83/100\n",
            "34/34 [==============================] - 0s 5ms/step - loss: 0.0695 - accuracy: 0.9630 - val_loss: 0.2935 - val_accuracy: 0.9333\n",
            "Epoch 84/100\n",
            "34/34 [==============================] - 0s 5ms/step - loss: 0.0349 - accuracy: 0.9852 - val_loss: 0.2609 - val_accuracy: 0.9333\n",
            "Epoch 85/100\n",
            "34/34 [==============================] - 0s 3ms/step - loss: 0.0369 - accuracy: 0.9778 - val_loss: 0.2447 - val_accuracy: 0.9333\n",
            "Epoch 86/100\n",
            "34/34 [==============================] - 0s 3ms/step - loss: 0.0382 - accuracy: 0.9852 - val_loss: 0.3055 - val_accuracy: 0.9333\n",
            "Epoch 87/100\n",
            "34/34 [==============================] - 0s 3ms/step - loss: 0.0352 - accuracy: 0.9852 - val_loss: 0.3326 - val_accuracy: 0.9333\n",
            "Epoch 88/100\n",
            "34/34 [==============================] - 0s 3ms/step - loss: 0.0322 - accuracy: 0.9852 - val_loss: 0.4177 - val_accuracy: 0.9333\n",
            "Epoch 89/100\n",
            "34/34 [==============================] - 0s 3ms/step - loss: 0.0311 - accuracy: 0.9926 - val_loss: 0.1769 - val_accuracy: 0.9333\n",
            "Epoch 90/100\n",
            "34/34 [==============================] - 0s 3ms/step - loss: 0.0535 - accuracy: 0.9852 - val_loss: 0.3785 - val_accuracy: 0.9333\n",
            "Epoch 91/100\n",
            "34/34 [==============================] - 0s 3ms/step - loss: 0.0482 - accuracy: 0.9704 - val_loss: 0.2947 - val_accuracy: 0.9333\n",
            "Epoch 92/100\n",
            "34/34 [==============================] - 0s 3ms/step - loss: 0.0371 - accuracy: 0.9852 - val_loss: 0.2930 - val_accuracy: 0.9333\n",
            "Epoch 93/100\n",
            "34/34 [==============================] - 0s 3ms/step - loss: 0.0299 - accuracy: 0.9926 - val_loss: 0.2918 - val_accuracy: 0.9333\n",
            "Epoch 94/100\n",
            "34/34 [==============================] - 0s 3ms/step - loss: 0.0373 - accuracy: 0.9778 - val_loss: 0.4949 - val_accuracy: 0.8667\n",
            "Epoch 95/100\n",
            "34/34 [==============================] - 0s 3ms/step - loss: 0.1238 - accuracy: 0.9481 - val_loss: 0.5313 - val_accuracy: 0.8667\n",
            "Epoch 96/100\n",
            "34/34 [==============================] - 0s 3ms/step - loss: 0.0720 - accuracy: 0.9704 - val_loss: 0.1658 - val_accuracy: 0.9333\n",
            "Epoch 97/100\n",
            "34/34 [==============================] - 0s 3ms/step - loss: 0.0390 - accuracy: 0.9778 - val_loss: 0.3160 - val_accuracy: 0.9333\n",
            "Epoch 98/100\n",
            "34/34 [==============================] - 0s 3ms/step - loss: 0.0311 - accuracy: 0.9852 - val_loss: 0.2794 - val_accuracy: 0.9333\n",
            "Epoch 99/100\n",
            "34/34 [==============================] - 0s 3ms/step - loss: 0.0361 - accuracy: 0.9852 - val_loss: 0.2717 - val_accuracy: 0.9333\n",
            "Epoch 100/100\n",
            "34/34 [==============================] - 0s 3ms/step - loss: 0.0391 - accuracy: 0.9852 - val_loss: 0.1883 - val_accuracy: 0.9333\n"
          ]
        }
      ]
    },
    {
      "cell_type": "markdown",
      "source": [
        "Evaluating the Algorithm"
      ],
      "metadata": {
        "id": "rf_N0CzKqIsL"
      }
    },
    {
      "cell_type": "code",
      "source": [
        "history.history['accuracy']"
      ],
      "metadata": {
        "colab": {
          "base_uri": "https://localhost:8080/"
        },
        "id": "mgf-fMrcWYuv",
        "outputId": "7fdcec31-157f-4095-8eba-95b2e7723e53"
      },
      "execution_count": null,
      "outputs": [
        {
          "output_type": "execute_result",
          "data": {
            "text/plain": [
              "[0.6962962746620178,\n",
              " 0.8074073791503906,\n",
              " 0.8370370268821716,\n",
              " 0.9333333373069763,\n",
              " 0.8814814686775208,\n",
              " 0.970370352268219,\n",
              " 0.8962963223457336,\n",
              " 0.970370352268219,\n",
              " 0.9185185432434082,\n",
              " 0.9629629850387573,\n",
              " 0.9629629850387573,\n",
              " 0.9777777791023254,\n",
              " 0.9629629850387573,\n",
              " 0.9629629850387573,\n",
              " 0.9777777791023254,\n",
              " 0.9851852059364319,\n",
              " 0.9407407641410828,\n",
              " 0.9407407641410828,\n",
              " 0.970370352268219,\n",
              " 0.9851852059364319,\n",
              " 0.9629629850387573,\n",
              " 0.9777777791023254,\n",
              " 0.9777777791023254,\n",
              " 0.970370352268219,\n",
              " 0.9851852059364319,\n",
              " 0.9925925731658936,\n",
              " 0.9481481313705444,\n",
              " 0.9851852059364319,\n",
              " 0.9777777791023254,\n",
              " 0.9777777791023254,\n",
              " 0.9481481313705444,\n",
              " 0.9851852059364319,\n",
              " 0.970370352268219,\n",
              " 0.9777777791023254,\n",
              " 0.9777777791023254,\n",
              " 0.9777777791023254,\n",
              " 0.970370352268219,\n",
              " 0.970370352268219,\n",
              " 0.9555555582046509,\n",
              " 0.970370352268219,\n",
              " 0.9851852059364319,\n",
              " 0.9777777791023254,\n",
              " 0.9777777791023254,\n",
              " 0.970370352268219,\n",
              " 0.9851852059364319,\n",
              " 0.970370352268219,\n",
              " 0.9629629850387573,\n",
              " 0.9851852059364319,\n",
              " 0.9777777791023254,\n",
              " 0.9925925731658936,\n",
              " 0.9777777791023254,\n",
              " 0.9777777791023254,\n",
              " 0.9777777791023254,\n",
              " 0.9851852059364319,\n",
              " 0.9777777791023254,\n",
              " 0.9777777791023254,\n",
              " 0.970370352268219,\n",
              " 0.9777777791023254,\n",
              " 0.9777777791023254,\n",
              " 0.9629629850387573,\n",
              " 0.9777777791023254,\n",
              " 0.970370352268219,\n",
              " 0.970370352268219,\n",
              " 0.970370352268219,\n",
              " 0.9555555582046509,\n",
              " 0.9777777791023254,\n",
              " 0.9777777791023254,\n",
              " 0.9629629850387573,\n",
              " 0.9851852059364319,\n",
              " 0.9851852059364319,\n",
              " 0.970370352268219,\n",
              " 0.9629629850387573,\n",
              " 0.970370352268219,\n",
              " 0.970370352268219,\n",
              " 0.970370352268219,\n",
              " 0.9851852059364319,\n",
              " 0.9851852059364319,\n",
              " 0.9629629850387573,\n",
              " 0.9777777791023254,\n",
              " 0.970370352268219,\n",
              " 0.9777777791023254,\n",
              " 0.9777777791023254,\n",
              " 0.9629629850387573,\n",
              " 0.9851852059364319,\n",
              " 0.9777777791023254,\n",
              " 0.9851852059364319,\n",
              " 0.9851852059364319,\n",
              " 0.9851852059364319,\n",
              " 0.9925925731658936,\n",
              " 0.9851852059364319,\n",
              " 0.970370352268219,\n",
              " 0.9851852059364319,\n",
              " 0.9925925731658936,\n",
              " 0.9777777791023254,\n",
              " 0.9481481313705444,\n",
              " 0.970370352268219,\n",
              " 0.9777777791023254,\n",
              " 0.9851852059364319,\n",
              " 0.9851852059364319,\n",
              " 0.9851852059364319]"
            ]
          },
          "metadata": {},
          "execution_count": 128
        }
      ]
    },
    {
      "cell_type": "code",
      "source": [
        "from matplotlib import pyplot as plt\n",
        "plt.plot(history.history['loss'])"
      ],
      "metadata": {
        "colab": {
          "base_uri": "https://localhost:8080/",
          "height": 447
        },
        "id": "ZB_2mVEnkuYw",
        "outputId": "4a9515f1-7ac3-4a50-8905-cc6e6ebd61cd"
      },
      "execution_count": null,
      "outputs": [
        {
          "output_type": "execute_result",
          "data": {
            "text/plain": [
              "[<matplotlib.lines.Line2D at 0x7b601c07b970>]"
            ]
          },
          "metadata": {},
          "execution_count": 129
        },
        {
          "output_type": "display_data",
          "data": {
            "text/plain": [
              "<Figure size 640x480 with 1 Axes>"
            ],
            "image/png": "[encoded data removed]"
          },
          "metadata": {}
        }
      ]
    },
    {
      "cell_type": "code",
      "source": [
        "plt.plot(history.history['accuracy'])"
      ],
      "metadata": {
        "colab": {
          "base_uri": "https://localhost:8080/",
          "height": 447
        },
        "id": "LtnUEiU0k_p9",
        "outputId": "1e0c70c6-f938-4eb4-96ea-4f17bd4dbebe"
      },
      "execution_count": null,
      "outputs": [
        {
          "output_type": "execute_result",
          "data": {
            "text/plain": [
              "[<matplotlib.lines.Line2D at 0x7b601770e800>]"
            ]
          },
          "metadata": {},
          "execution_count": 130
        },
        {
          "output_type": "display_data",
          "data": {
            "text/plain": [
              "<Figure size 640x480 with 1 Axes>"
            ],
            "image/png": "[encoded data removed]"
          },
          "metadata": {}
        }
      ]
    },
    {
      "cell_type": "code",
      "source": [
        "test_data = tf.convert_to_tensor(test_data)\n",
        "print(test_data.dtype)"
      ],
      "metadata": {
        "colab": {
          "base_uri": "https://localhost:8080/"
        },
        "id": "Y4jQB2qTltMJ",
        "outputId": "19c3f606-f95c-4600-b623-b041a06bba0f"
      },
      "execution_count": null,
      "outputs": [
        {
          "output_type": "stream",
          "name": "stdout",
          "text": [
            "<dtype: 'float32'>\n"
          ]
        }
      ]
    },
    {
      "cell_type": "code",
      "source": [
        "predicted_target=model.predict(test_data)"
      ],
      "metadata": {
        "colab": {
          "base_uri": "https://localhost:8080/"
        },
        "id": "8EzqLQcRlUEw",
        "outputId": "f315ea8a-c57a-435d-c69a-3758303409a0"
      },
      "execution_count": null,
      "outputs": [
        {
          "output_type": "stream",
          "name": "stdout",
          "text": [
            "1/1 [==============================] - 0s 184ms/step\n"
          ]
        }
      ]
    },
    {
      "source": [
        "print('Actual results: ', test_target)\n",
        "print('Predicted results: ', predicted_target)"
      ],
      "cell_type": "code",
      "metadata": {
        "colab": {
          "base_uri": "https://localhost:8080/"
        },
        "id": "pLQZQBGZlspZ",
        "outputId": "aeffa69e-cdb8-4d80-db8e-6fe6806b11ab"
      },
      "execution_count": null,
      "outputs": [
        {
          "output_type": "stream",
          "name": "stdout",
          "text": [
            "Actual results:  tf.Tensor(\n",
            "[[1. 0. 0.]\n",
            " [0. 0. 1.]\n",
            " [0. 1. 0.]\n",
            " [0. 0. 1.]\n",
            " [0. 1. 0.]\n",
            " [0. 1. 0.]\n",
            " [0. 1. 0.]\n",
            " [0. 1. 0.]\n",
            " [0. 1. 0.]\n",
            " [0. 1. 0.]\n",
            " [0. 0. 1.]\n",
            " [1. 0. 0.]\n",
            " [0. 1. 0.]\n",
            " [0. 1. 0.]\n",
            " [0. 0. 1.]], shape=(15, 3), dtype=float32)\n",
            "Predicted results:  [[9.99991715e-01 7.58355418e-06 5.78762297e-07]\n",
            " [2.39969631e-06 3.95515328e-03 9.96042430e-01]\n",
            " [1.68425220e-04 9.99794483e-01 3.70595189e-05]\n",
            " [5.08202720e-06 1.49462568e-02 9.85048532e-01]\n",
            " [2.14410597e-04 9.99656558e-01 1.29082327e-04]\n",
            " [9.05822526e-05 9.99860287e-01 4.90729981e-05]\n",
            " [6.94588743e-05 9.99874115e-01 5.63927606e-05]\n",
            " [1.85197583e-04 9.99727607e-01 8.72701639e-05]\n",
            " [1.15876326e-04 9.81724262e-01 1.81599110e-02]\n",
            " [1.27684281e-04 9.99265969e-01 6.06327318e-04]\n",
            " [6.58394993e-06 6.84134960e-02 9.31579947e-01]\n",
            " [9.99979138e-01 1.91362760e-05 1.67722612e-06]\n",
            " [1.49158484e-04 9.99755800e-01 9.50316899e-05]\n",
            " [2.81021203e-05 6.66310787e-02 9.33340847e-01]\n",
            " [1.83754128e-06 5.79339918e-03 9.94204819e-01]]\n"
          ]
        }
      ]
    },
    {
      "cell_type": "code",
      "source": [
        "test_labels=np.argmax(test_target, axis=1)\n",
        "predicted_labels=np.argmax(predicted_target, axis=1)\n",
        "print('Actual results: ', test_labels)\n",
        "print('Predicted results: ', predicted_labels)"
      ],
      "metadata": {
        "colab": {
          "base_uri": "https://localhost:8080/"
        },
        "id": "pIRLViTXmCr5",
        "outputId": "fc3f218e-aa29-4c59-fd1f-7fdc22f9280f"
      },
      "execution_count": null,
      "outputs": [
        {
          "output_type": "stream",
          "name": "stdout",
          "text": [
            "Actual results:  [0 2 1 2 1 1 1 1 1 1 2 0 1 1 2]\n",
            "Predicted results:  [0 2 1 2 1 1 1 1 1 1 2 0 1 2 2]\n"
          ]
        }
      ]
    },
    {
      "cell_type": "code",
      "source": [
        "from sklearn.metrics import accuracy_score\n",
        "valid_acc=accuracy_score(test_labels,predicted_labels)\n",
        "print(valid_acc)"
      ],
      "metadata": {
        "colab": {
          "base_uri": "https://localhost:8080/"
        },
        "id": "hkmsmMhMnDrw",
        "outputId": "6df1be9e-ee21-42f4-bef2-6f95ae30ea53"
      },
      "execution_count": null,
      "outputs": [
        {
          "output_type": "stream",
          "name": "stdout",
          "text": [
            "0.9333333333333333\n"
          ]
        }
      ]
    },
    {
      "cell_type": "code",
      "source": [
        "plt.plot(history.history['loss'], label='loss')\n",
        "plt.plot(history.history['val_loss'], label='val_loss')\n",
        "plt.legend()\n",
        "\n",
        "plt.xlabel('epoch #')\n",
        "plt.ylabel('loss')"
      ],
      "metadata": {
        "colab": {
          "base_uri": "https://localhost:8080/",
          "height": 466
        },
        "id": "xkPAkj__oWt5",
        "outputId": "86f3a0c8-b2fd-4489-d34b-924e8fe2b433"
      },
      "execution_count": null,
      "outputs": [
        {
          "output_type": "execute_result",
          "data": {
            "text/plain": [
              "Text(0, 0.5, 'loss')"
            ]
          },
          "metadata": {},
          "execution_count": 141
        },
        {
          "output_type": "display_data",
          "data": {
            "text/plain": [
              "<Figure size 640x480 with 1 Axes>"
            ],
            "image/png": "[encoded data removed]"
          },
          "metadata": {}
        }
      ]
    },
    {
      "cell_type": "code",
      "source": [
        "plt.plot(history.history['accuracy'], label='accuracy')\n",
        "plt.plot(history.history['val_accuracy'], label='val_accuracy')\n",
        "plt.legend()\n",
        "\n",
        "plt.xlabel('epoch #')\n",
        "plt.ylabel('accuracy')"
      ],
      "metadata": {
        "colab": {
          "base_uri": "https://localhost:8080/",
          "height": 466
        },
        "id": "T6NERsRPqWCx",
        "outputId": "c223f29a-d2b9-4007-b549-4352802f7497"
      },
      "execution_count": null,
      "outputs": [
        {
          "output_type": "execute_result",
          "data": {
            "text/plain": [
              "Text(0, 0.5, 'accuracy')"
            ]
          },
          "metadata": {},
          "execution_count": 142
        },
        {
          "output_type": "display_data",
          "data": {
            "text/plain": [
              "<Figure size 640x480 with 1 Axes>"
            ],
            "image/png": "[encoded data removed]"
          },
          "metadata": {}
        }
      ]
    },
    {
      "cell_type": "code",
      "source": [
        "model.save('/content/drive/MyDrive/Colab Notebooks/DL_Course/iris-model-v01.model')"
      ],
      "metadata": {
        "id": "eZec7-SAsGPc"
      },
      "execution_count": null,
      "outputs": []
    },
    {
      "cell_type": "code",
      "source": [
        "model.save('/content/drive/MyDrive/Colab Notebooks/DL_Course/iris-model-v01.h5')"
      ],
      "metadata": {
        "colab": {
          "base_uri": "https://localhost:8080/"
        },
        "id": "IF4A5BittDPY",
        "outputId": "c7244c30-08f4-4c69-aef6-32aca13fee83"
      },
      "execution_count": null,
      "outputs": [
        {
          "output_type": "stream",
          "name": "stderr",
          "text": [
            "/usr/local/lib/python3.10/dist-packages/keras/src/engine/training.py:3103: UserWarning: You are saving your model as an HDF5 file via `model.save()`. This file format is considered legacy. We recommend using instead the native Keras format, e.g. `model.save('my_model.keras')`.\n",
            "  saving_api.save_model(\n"
          ]
        }
      ]
    },
    {
      "cell_type": "code",
      "source": [
        "from keras.models import load_model\n",
        "\n",
        "model=load_model('/content/drive/MyDrive/Colab Notebooks/DL_Course/iris-model-v01.h5')"
      ],
      "metadata": {
        "id": "JQ8yV1eKtNE5"
      },
      "execution_count": null,
      "outputs": []
    },
    {
      "cell_type": "code",
      "source": [
        "model.summary()"
      ],
      "metadata": {
        "colab": {
          "base_uri": "https://localhost:8080/"
        },
        "id": "REzhippWtfUA",
        "outputId": "f8a3126d-37a4-4c33-b4d7-b0ffe4bec80c"
      },
      "execution_count": null,
      "outputs": [
        {
          "output_type": "stream",
          "name": "stdout",
          "text": [
            "Model: \"sequential_5\"\n",
            "_________________________________________________________________\n",
            " Layer (type)                Output Shape              Param #   \n",
            "=================================================================\n",
            " dense_20 (Dense)            (None, 32)                160       \n",
            "                                                                 \n",
            " dense_21 (Dense)            (None, 64)                2112      \n",
            "                                                                 \n",
            " dense_22 (Dense)            (None, 16)                1040      \n",
            "                                                                 \n",
            " dense_23 (Dense)            (None, 3)                 51        \n",
            "                                                                 \n",
            "=================================================================\n",
            "Total params: 3363 (13.14 KB)\n",
            "Trainable params: 3363 (13.14 KB)\n",
            "Non-trainable params: 0 (0.00 Byte)\n",
            "_________________________________________________________________\n"
          ]
        }
      ]
    },
    {
      "cell_type": "code",
      "source": [
        "test_data=[0.2,1.5,1.4,0.6]\n",
        "test_data=np.array(test_data)"
      ],
      "metadata": {
        "id": "4Gsuv8ghtl7J"
      },
      "execution_count": null,
      "outputs": []
    },
    {
      "cell_type": "code",
      "source": [
        "test_data.shape"
      ],
      "metadata": {
        "colab": {
          "base_uri": "https://localhost:8080/"
        },
        "id": "rT8fKn2Gt3Gi",
        "outputId": "2200ba1d-1c49-46f1-9aa5-29d596de45a8"
      },
      "execution_count": null,
      "outputs": [
        {
          "output_type": "execute_result",
          "data": {
            "text/plain": [
              "(4,)"
            ]
          },
          "metadata": {},
          "execution_count": 148
        }
      ]
    },
    {
      "cell_type": "code",
      "source": [
        "test_data=test_data.reshape(1,-1)\n",
        "#test_data=test_data.reshape(-1,1)"
      ],
      "metadata": {
        "id": "Z6FuCTYkt-Ub"
      },
      "execution_count": null,
      "outputs": []
    },
    {
      "cell_type": "code",
      "source": [
        "test_data.shape"
      ],
      "metadata": {
        "colab": {
          "base_uri": "https://localhost:8080/"
        },
        "id": "_q39Dj_AuD8b",
        "outputId": "b72cc4e1-99f4-488b-c959-bd18dddf1d22"
      },
      "execution_count": null,
      "outputs": [
        {
          "output_type": "execute_result",
          "data": {
            "text/plain": [
              "(1, 4)"
            ]
          },
          "metadata": {},
          "execution_count": 158
        }
      ]
    },
    {
      "cell_type": "code",
      "source": [
        "predicted_target=model.predict(test_data)"
      ],
      "metadata": {
        "colab": {
          "base_uri": "https://localhost:8080/"
        },
        "id": "MdZFbpyQtwBY",
        "outputId": "e2c73cb1-8ea3-4595-b226-00d85bf851e0"
      },
      "execution_count": null,
      "outputs": [
        {
          "output_type": "stream",
          "name": "stdout",
          "text": [
            "1/1 [==============================] - 0s 20ms/step\n"
          ]
        }
      ]
    },
    {
      "cell_type": "code",
      "source": [
        "print(predicted_target)"
      ],
      "metadata": {
        "colab": {
          "base_uri": "https://localhost:8080/"
        },
        "id": "ja0IoIqPuFIh",
        "outputId": "21407639-3790-4387-c8b5-b65defb63487"
      },
      "execution_count": null,
      "outputs": [
        {
          "output_type": "stream",
          "name": "stdout",
          "text": [
            "[[0.17299952 0.7704408  0.05655968]]\n"
          ]
        }
      ]
    },
    {
      "cell_type": "code",
      "source": [
        "predicted_label=np.argmax(predicted_target,axis=1)"
      ],
      "metadata": {
        "id": "h-Zdr3CLuJeB"
      },
      "execution_count": null,
      "outputs": []
    },
    {
      "cell_type": "code",
      "source": [
        "predicted_label"
      ],
      "metadata": {
        "colab": {
          "base_uri": "https://localhost:8080/"
        },
        "id": "Mk6CcIU5uSnw",
        "outputId": "0900d624-33f3-44c3-ef79-fab529e15ae7"
      },
      "execution_count": null,
      "outputs": [
        {
          "output_type": "execute_result",
          "data": {
            "text/plain": [
              "array([1])"
            ]
          },
          "metadata": {},
          "execution_count": 162
        }
      ]
    },
    {
      "cell_type": "code",
      "source": [
        "model.save_weights('/content/drive/MyDrive/Colab Notebooks/DL_Course/iris-model-weights-v01.h5')"
      ],
      "metadata": {
        "id": "N3lkAyXCuba5"
      },
      "execution_count": null,
      "outputs": []
    },
    {
      "cell_type": "code",
      "source": [
        "model.load_weights('/content/drive/MyDrive/Colab Notebooks/DL_Course/iris-model-weights-v01.h5')"
      ],
      "metadata": {
        "id": "I5OYotVUvUKo"
      },
      "execution_count": null,
      "outputs": []
    },
    {
      "cell_type": "code",
      "source": [
        "import numpy as np\n",
        "from pydantic import BaseModel\n",
        "from tensorflow.keras.models import load_model\n",
        "\n",
        "# Class mapping\n",
        "class_mapping = ['Iris-setosa', 'Iris-versicolor', 'Iris-virginica']\n",
        "# load model\n",
        "model=load_model('/content/drive/MyDrive/Colab Notebooks/DL_Course/iris-model-v01.h5')\n",
        "\n",
        "class Flower(BaseModel):\n",
        "  sepal_length:float\n",
        "  sepal_width:float\n",
        "  petal_length:float\n",
        "  petal_width:float\n",
        "\n",
        "def predict(data:Flower):\n",
        "  # Convert input data to numpy array\n",
        "  input_data=np.array([data.sepal_length,data.sepal_width,data.petal_length, data.petal_width])\n",
        "  # Reshape\n",
        "  input_data=input_data.reshape(1,-1)\n",
        "  # Predict\n",
        "  predicted_target=model.predict(input_data)\n",
        "  # Get the index of the maximum value\n",
        "  max_index = np.argmax(predicted_target)\n",
        "  # Get the relevant class\n",
        "  relevant_class = class_mapping[max_index]\n",
        "  print(\"Predicted class:\", relevant_class)\n",
        "  return relevant_class"
      ],
      "metadata": {
        "id": "3xty7M87vpv4"
      },
      "execution_count": 21,
      "outputs": []
    },
    {
      "cell_type": "code",
      "source": [
        "input_data=Flower(sepal_length=0.2,sepal_width=1.5,petal_length=1.4,petal_width=0.6)\n",
        "predict(input_data)"
      ],
      "metadata": {
        "colab": {
          "base_uri": "https://localhost:8080/",
          "height": 70
        },
        "id": "UCnvrvNE_9bl",
        "outputId": "dd8cac51-154e-4cd1-92dc-11d53d03944e"
      },
      "execution_count": 22,
      "outputs": [
        {
          "output_type": "stream",
          "name": "stdout",
          "text": [
            "1/1 [==============================] - 0s 97ms/step\n",
            "Predicted class: Iris-versicolor\n"
          ]
        },
        {
          "output_type": "execute_result",
          "data": {
            "text/plain": [
              "'Iris-versicolor'"
            ],
            "application/vnd.google.colaboratory.intrinsic+json": {
              "type": "string"
            }
          },
          "metadata": {},
          "execution_count": 22
        }
      ]
    },
    {
      "cell_type": "code",
      "source": [],
      "metadata": {
        "id": "I6qAKNjvBWJ8"
      },
      "execution_count": null,
      "outputs": []
    }
  ]
}